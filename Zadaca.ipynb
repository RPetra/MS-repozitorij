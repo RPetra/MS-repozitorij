{
 "cells": [
  {
   "cell_type": "markdown",
   "metadata": {},
   "source": [
    "# 1. ZADAĆA"
   ]
  },
  {
   "cell_type": "markdown",
   "metadata": {},
   "source": [
    "TODO: \n",
    "- uvod\n",
    "    - ideja\n",
    "    - cilj?\n",
    "    - prilagodba baze podataka- kopiranje, 1-5BR\n",
    "---------------------------\n",
    "- mali pregled pandas-a"
   ]
  },
  {
   "cell_type": "code",
   "execution_count": 1,
   "metadata": {},
   "outputs": [],
   "source": [
    "import pandas as pd \n",
    "loto = pd.read_excel('Loto7od39.xls')"
   ]
  },
  {
   "cell_type": "code",
   "execution_count": 2,
   "metadata": {},
   "outputs": [
    {
     "data": {
      "text/plain": [
       "Index(['KOLO', 'DATUM', '1BR', '2BR', '3BR', '4BR', '5BR', '6BR', '7BR',\n",
       "       'ZLATNA KUGLICA', 'SLOVO ZA \"SUPER7\"', 'DOBITAK\"7\"', 'DOBITAK \"SUPER7\"',\n",
       "       'JOKER', 'UPLATA LOTO 7/39', 'UKUPNO ZA \"7\"', 'UPLATA \"SUPER7\"',\n",
       "       'UKUPNO ZA \"SUPER7\"'],\n",
       "      dtype='object')"
      ]
     },
     "execution_count": 2,
     "metadata": {},
     "output_type": "execute_result"
    }
   ],
   "source": [
    "loto.columns"
   ]
  },
  {
   "cell_type": "code",
   "execution_count": 3,
   "metadata": {},
   "outputs": [
    {
     "data": {
      "text/html": [
       "<div>\n",
       "<style scoped>\n",
       "    .dataframe tbody tr th:only-of-type {\n",
       "        vertical-align: middle;\n",
       "    }\n",
       "\n",
       "    .dataframe tbody tr th {\n",
       "        vertical-align: top;\n",
       "    }\n",
       "\n",
       "    .dataframe thead th {\n",
       "        text-align: right;\n",
       "    }\n",
       "</style>\n",
       "<table border=\"1\" class=\"dataframe\">\n",
       "  <thead>\n",
       "    <tr style=\"text-align: right;\">\n",
       "      <th></th>\n",
       "      <th>KOLO</th>\n",
       "      <th>DATUM</th>\n",
       "      <th>1BR</th>\n",
       "      <th>2BR</th>\n",
       "      <th>3BR</th>\n",
       "      <th>4BR</th>\n",
       "      <th>5BR</th>\n",
       "      <th>6BR</th>\n",
       "      <th>7BR</th>\n",
       "      <th>ZLATNA KUGLICA</th>\n",
       "      <th>SLOVO ZA \"SUPER7\"</th>\n",
       "      <th>DOBITAK\"7\"</th>\n",
       "      <th>DOBITAK \"SUPER7\"</th>\n",
       "      <th>JOKER</th>\n",
       "      <th>UPLATA LOTO 7/39</th>\n",
       "      <th>UKUPNO ZA \"7\"</th>\n",
       "      <th>UPLATA \"SUPER7\"</th>\n",
       "      <th>UKUPNO ZA \"SUPER7\"</th>\n",
       "    </tr>\n",
       "  </thead>\n",
       "  <tbody>\n",
       "    <tr>\n",
       "      <th>0</th>\n",
       "      <td>104.0</td>\n",
       "      <td>30.12.</td>\n",
       "      <td>1</td>\n",
       "      <td>2</td>\n",
       "      <td>8</td>\n",
       "      <td>9</td>\n",
       "      <td>10</td>\n",
       "      <td>13</td>\n",
       "      <td>16</td>\n",
       "      <td>NE</td>\n",
       "      <td>B</td>\n",
       "      <td>-</td>\n",
       "      <td>-</td>\n",
       "      <td>296138.0</td>\n",
       "      <td>1520966.7</td>\n",
       "      <td>10000000</td>\n",
       "      <td>299564.1</td>\n",
       "      <td>1.70123e+07</td>\n",
       "    </tr>\n",
       "    <tr>\n",
       "      <th>1</th>\n",
       "      <td>103.0</td>\n",
       "      <td>27.12.</td>\n",
       "      <td>1</td>\n",
       "      <td>3</td>\n",
       "      <td>7</td>\n",
       "      <td>9</td>\n",
       "      <td>21</td>\n",
       "      <td>27</td>\n",
       "      <td>36</td>\n",
       "      <td>NE</td>\n",
       "      <td>A</td>\n",
       "      <td>-</td>\n",
       "      <td>-</td>\n",
       "      <td>977316.0</td>\n",
       "      <td>1173935.7</td>\n",
       "      <td>10000000</td>\n",
       "      <td>225656.1</td>\n",
       "      <td>1.69336e+07</td>\n",
       "    </tr>\n",
       "    <tr>\n",
       "      <th>2</th>\n",
       "      <td>102.0</td>\n",
       "      <td>23.12.</td>\n",
       "      <td>8</td>\n",
       "      <td>12</td>\n",
       "      <td>13</td>\n",
       "      <td>21</td>\n",
       "      <td>27</td>\n",
       "      <td>30</td>\n",
       "      <td>39</td>\n",
       "      <td>NE</td>\n",
       "      <td>B</td>\n",
       "      <td>-</td>\n",
       "      <td>-</td>\n",
       "      <td>718903.0</td>\n",
       "      <td>1444570.2</td>\n",
       "      <td>10000000</td>\n",
       "      <td>283858.2</td>\n",
       "      <td>1.68744e+07</td>\n",
       "    </tr>\n",
       "    <tr>\n",
       "      <th>3</th>\n",
       "      <td>101.0</td>\n",
       "      <td>20.12.</td>\n",
       "      <td>4</td>\n",
       "      <td>8</td>\n",
       "      <td>16</td>\n",
       "      <td>17</td>\n",
       "      <td>18</td>\n",
       "      <td>19</td>\n",
       "      <td>25</td>\n",
       "      <td>NE</td>\n",
       "      <td>B</td>\n",
       "      <td>-</td>\n",
       "      <td>-</td>\n",
       "      <td>987865.0</td>\n",
       "      <td>1344880.8</td>\n",
       "      <td>10000000</td>\n",
       "      <td>260028.9</td>\n",
       "      <td>1.67999e+07</td>\n",
       "    </tr>\n",
       "    <tr>\n",
       "      <th>4</th>\n",
       "      <td>100.0</td>\n",
       "      <td>16.12.</td>\n",
       "      <td>3</td>\n",
       "      <td>8</td>\n",
       "      <td>9</td>\n",
       "      <td>12</td>\n",
       "      <td>17</td>\n",
       "      <td>29</td>\n",
       "      <td>34</td>\n",
       "      <td>NE</td>\n",
       "      <td>A</td>\n",
       "      <td>-</td>\n",
       "      <td>-</td>\n",
       "      <td>837929.0</td>\n",
       "      <td>1464625.8</td>\n",
       "      <td>10000000</td>\n",
       "      <td>273955.5</td>\n",
       "      <td>1.67316e+07</td>\n",
       "    </tr>\n",
       "  </tbody>\n",
       "</table>\n",
       "</div>"
      ],
      "text/plain": [
       "    KOLO   DATUM  1BR  2BR  3BR  4BR  5BR  6BR  7BR ZLATNA KUGLICA  \\\n",
       "0  104.0  30.12.    1    2    8    9   10   13   16             NE   \n",
       "1  103.0  27.12.    1    3    7    9   21   27   36             NE   \n",
       "2  102.0  23.12.    8   12   13   21   27   30   39             NE   \n",
       "3  101.0  20.12.    4    8   16   17   18   19   25             NE   \n",
       "4  100.0  16.12.    3    8    9   12   17   29   34             NE   \n",
       "\n",
       "  SLOVO ZA \"SUPER7\" DOBITAK\"7\" DOBITAK \"SUPER7\"     JOKER  UPLATA LOTO 7/39  \\\n",
       "0                 B          -                -  296138.0         1520966.7   \n",
       "1                 A          -                -  977316.0         1173935.7   \n",
       "2                 B          -                -  718903.0         1444570.2   \n",
       "3                 B          -                -  987865.0         1344880.8   \n",
       "4                 A          -                -  837929.0         1464625.8   \n",
       "\n",
       "  UKUPNO ZA \"7\"  UPLATA \"SUPER7\" UKUPNO ZA \"SUPER7\"  \n",
       "0      10000000         299564.1        1.70123e+07  \n",
       "1      10000000         225656.1        1.69336e+07  \n",
       "2      10000000         283858.2        1.68744e+07  \n",
       "3      10000000         260028.9        1.67999e+07  \n",
       "4      10000000         273955.5        1.67316e+07  "
      ]
     },
     "execution_count": 3,
     "metadata": {},
     "output_type": "execute_result"
    }
   ],
   "source": [
    "loto.head()"
   ]
  },
  {
   "cell_type": "code",
   "execution_count": 4,
   "metadata": {},
   "outputs": [
    {
     "data": {
      "text/plain": [
       "KOLO                  float64\n",
       "DATUM                  object\n",
       "1BR                     int64\n",
       "2BR                     int64\n",
       "3BR                     int64\n",
       "4BR                     int64\n",
       "5BR                     int64\n",
       "6BR                     int64\n",
       "7BR                     int64\n",
       "ZLATNA KUGLICA         object\n",
       "SLOVO ZA \"SUPER7\"      object\n",
       "DOBITAK\"7\"             object\n",
       "DOBITAK \"SUPER7\"       object\n",
       "JOKER                 float64\n",
       "UPLATA LOTO 7/39      float64\n",
       "UKUPNO ZA \"7\"          object\n",
       "UPLATA \"SUPER7\"       float64\n",
       "UKUPNO ZA \"SUPER7\"     object\n",
       "dtype: object"
      ]
     },
     "execution_count": 4,
     "metadata": {},
     "output_type": "execute_result"
    }
   ],
   "source": [
    "loto.dtypes"
   ]
  },
  {
   "cell_type": "markdown",
   "metadata": {},
   "source": [
    "--------------------\n",
    "# Pogledajmo DATUM"
   ]
  },
  {
   "cell_type": "code",
   "execution_count": 5,
   "metadata": {},
   "outputs": [
    {
     "data": {
      "text/html": [
       "<div>\n",
       "<style scoped>\n",
       "    .dataframe tbody tr th:only-of-type {\n",
       "        vertical-align: middle;\n",
       "    }\n",
       "\n",
       "    .dataframe tbody tr th {\n",
       "        vertical-align: top;\n",
       "    }\n",
       "\n",
       "    .dataframe thead th {\n",
       "        text-align: right;\n",
       "    }\n",
       "</style>\n",
       "<table border=\"1\" class=\"dataframe\">\n",
       "  <thead>\n",
       "    <tr style=\"text-align: right;\">\n",
       "      <th></th>\n",
       "      <th>KOLO</th>\n",
       "      <th>DATUM</th>\n",
       "    </tr>\n",
       "  </thead>\n",
       "  <tbody>\n",
       "    <tr>\n",
       "      <th>0</th>\n",
       "      <td>104.0</td>\n",
       "      <td>30.12.</td>\n",
       "    </tr>\n",
       "    <tr>\n",
       "      <th>50</th>\n",
       "      <td>54.0</td>\n",
       "      <td>8.7.</td>\n",
       "    </tr>\n",
       "    <tr>\n",
       "      <th>100</th>\n",
       "      <td>4.0</td>\n",
       "      <td>14.1.</td>\n",
       "    </tr>\n",
       "    <tr>\n",
       "      <th>150</th>\n",
       "      <td>59.0</td>\n",
       "      <td>23.7.</td>\n",
       "    </tr>\n",
       "    <tr>\n",
       "      <th>200</th>\n",
       "      <td>9.0</td>\n",
       "      <td>30.1.</td>\n",
       "    </tr>\n",
       "    <tr>\n",
       "      <th>250</th>\n",
       "      <td>63.0</td>\n",
       "      <td>8.8.</td>\n",
       "    </tr>\n",
       "    <tr>\n",
       "      <th>300</th>\n",
       "      <td>13.0</td>\n",
       "      <td>14.2.</td>\n",
       "    </tr>\n",
       "    <tr>\n",
       "      <th>350</th>\n",
       "      <td>68.0</td>\n",
       "      <td>23.8.</td>\n",
       "    </tr>\n",
       "    <tr>\n",
       "      <th>400</th>\n",
       "      <td>18.0</td>\n",
       "      <td>1.3.</td>\n",
       "    </tr>\n",
       "    <tr>\n",
       "      <th>450</th>\n",
       "      <td>72.0</td>\n",
       "      <td>07.09.</td>\n",
       "    </tr>\n",
       "    <tr>\n",
       "      <th>500</th>\n",
       "      <td>22.0</td>\n",
       "      <td>16.03.</td>\n",
       "    </tr>\n",
       "    <tr>\n",
       "      <th>550</th>\n",
       "      <td>76.0</td>\n",
       "      <td>22.09.</td>\n",
       "    </tr>\n",
       "    <tr>\n",
       "      <th>600</th>\n",
       "      <td>26.0</td>\n",
       "      <td>31.03.</td>\n",
       "    </tr>\n",
       "    <tr>\n",
       "      <th>650</th>\n",
       "      <td>81.0</td>\n",
       "      <td>08.10.2011.</td>\n",
       "    </tr>\n",
       "    <tr>\n",
       "      <th>700</th>\n",
       "      <td>31.0</td>\n",
       "      <td>16.04.2011.</td>\n",
       "    </tr>\n",
       "    <tr>\n",
       "      <th>750</th>\n",
       "      <td>85.0</td>\n",
       "      <td>23.10.2010.</td>\n",
       "    </tr>\n",
       "    <tr>\n",
       "      <th>800</th>\n",
       "      <td>35.0</td>\n",
       "      <td>01.05.2010.</td>\n",
       "    </tr>\n",
       "    <tr>\n",
       "      <th>850</th>\n",
       "      <td>89.0</td>\n",
       "      <td>07.11.2009.</td>\n",
       "    </tr>\n",
       "    <tr>\n",
       "      <th>900</th>\n",
       "      <td>39.0</td>\n",
       "      <td>16.05.2009.</td>\n",
       "    </tr>\n",
       "  </tbody>\n",
       "</table>\n",
       "</div>"
      ],
      "text/plain": [
       "      KOLO        DATUM\n",
       "0    104.0       30.12.\n",
       "50    54.0         8.7.\n",
       "100    4.0        14.1.\n",
       "150   59.0        23.7.\n",
       "200    9.0        30.1.\n",
       "250   63.0         8.8.\n",
       "300   13.0        14.2.\n",
       "350   68.0        23.8.\n",
       "400   18.0         1.3.\n",
       "450   72.0       07.09.\n",
       "500   22.0       16.03.\n",
       "550   76.0       22.09.\n",
       "600   26.0       31.03.\n",
       "650   81.0  08.10.2011.\n",
       "700   31.0  16.04.2011.\n",
       "750   85.0  23.10.2010.\n",
       "800   35.0  01.05.2010.\n",
       "850   89.0  07.11.2009.\n",
       "900   39.0  16.05.2009."
      ]
     },
     "execution_count": 5,
     "metadata": {},
     "output_type": "execute_result"
    }
   ],
   "source": [
    "loto[['KOLO','DATUM']][0:901:50]"
   ]
  },
  {
   "cell_type": "markdown",
   "metadata": {},
   "source": [
    "Uočimo da se u bazi nalaze datumi na razne načine zapisani te ponegdje nisu navedene godine. Budući da će nam biti potrebni točni datumi za izradu određenih grafova te pregled kola po godinama stoga na početku prilagodimo bazu podataka budućim zahtjevima.\n",
    "\n",
    "### DATUM convertiramo iz object u date time\n",
    "TODO: pseudokod?\n",
    "\n",
    "Postupak:\n",
    "1. iz stringa DATUM izvuc dan \n",
    "2. iz stringa DATUM izvuc mjesec\n",
    "3. dodati godinu ovisno o kolu\n",
    "4. nova tri stupca spojis u datum"
   ]
  },
  {
   "cell_type": "code",
   "execution_count": 6,
   "metadata": {},
   "outputs": [
    {
     "data": {
      "text/plain": [
       "939"
      ]
     },
     "execution_count": 6,
     "metadata": {},
     "output_type": "execute_result"
    }
   ],
   "source": [
    "num_of_rows= loto[\"KOLO\"].count()\n",
    "num_of_rows"
   ]
  },
  {
   "cell_type": "code",
   "execution_count": 7,
   "metadata": {},
   "outputs": [],
   "source": [
    "def convert_date():\n",
    "    year= []\n",
    "    month= []\n",
    "    dani= []\n",
    "    y=2017\n",
    "    for i in range (0, num_of_rows ):\n",
    "        first_dot= loto['DATUM'][i].find(\".\")\n",
    "        d= int(loto['DATUM'][i][0:first_dot])\n",
    "        second_dot= loto['DATUM'][i].find(\".\", first_dot + 1)\n",
    "        m = int(loto['DATUM'][i][first_dot+1:second_dot])\n",
    "\n",
    "        if (i>0 and (loto['KOLO'][i-1]<loto['KOLO'][i] ) ):\n",
    "            y = y- 1\n",
    "\n",
    "\n",
    "        month.append(m)\n",
    "        dani.append(d)\n",
    "        year.append(y)\n",
    "\n",
    "    loto['DAN']= dani\n",
    "    loto['MJESEC']= month\n",
    "    loto['GOD']= year\n",
    "    loto['DATUM'] = pd.to_datetime(dict(year=loto['GOD'], month=loto['MJESEC'], day=loto['DAN']))"
   ]
  },
  {
   "cell_type": "code",
   "execution_count": 8,
   "metadata": {},
   "outputs": [],
   "source": [
    "convert_date()"
   ]
  },
  {
   "cell_type": "markdown",
   "metadata": {},
   "source": [
    "#### Drugi naćim konvertiranja u objekat koji preponaje format datuma\n",
    "TODO: ubaci ga u code\n",
    "\n",
    "for i in range (0, num_of_rows ):\n",
    "    god = \"2017\"\n",
    "    first_dot= loto['DATUM'][i].find(\".\")\n",
    "    dan= (loto['DATUM'][i][0:first_dot])\n",
    "    second_dot= loto['DATUM'][i].find(\".\", first_dot + 1)\n",
    "    mj = (loto['DATUM'][i][first_dot+1:second_dot])\n",
    "    date=dan + \"-\" + mj + \"-\" + god\n",
    "    #print ( date )\n",
    "    loto['DATUM'].replace(to_replace=loto['DATUM'][i], value=date, inplace=True)"
   ]
  },
  {
   "cell_type": "code",
   "execution_count": 9,
   "metadata": {},
   "outputs": [
    {
     "data": {
      "text/html": [
       "<div>\n",
       "<style scoped>\n",
       "    .dataframe tbody tr th:only-of-type {\n",
       "        vertical-align: middle;\n",
       "    }\n",
       "\n",
       "    .dataframe tbody tr th {\n",
       "        vertical-align: top;\n",
       "    }\n",
       "\n",
       "    .dataframe thead th {\n",
       "        text-align: right;\n",
       "    }\n",
       "</style>\n",
       "<table border=\"1\" class=\"dataframe\">\n",
       "  <thead>\n",
       "    <tr style=\"text-align: right;\">\n",
       "      <th></th>\n",
       "      <th>KOLO</th>\n",
       "      <th>DATUM</th>\n",
       "    </tr>\n",
       "  </thead>\n",
       "  <tbody>\n",
       "    <tr>\n",
       "      <th>0</th>\n",
       "      <td>104.0</td>\n",
       "      <td>2017-12-30</td>\n",
       "    </tr>\n",
       "    <tr>\n",
       "      <th>50</th>\n",
       "      <td>54.0</td>\n",
       "      <td>2017-07-08</td>\n",
       "    </tr>\n",
       "    <tr>\n",
       "      <th>100</th>\n",
       "      <td>4.0</td>\n",
       "      <td>2017-01-14</td>\n",
       "    </tr>\n",
       "    <tr>\n",
       "      <th>150</th>\n",
       "      <td>59.0</td>\n",
       "      <td>2016-07-23</td>\n",
       "    </tr>\n",
       "    <tr>\n",
       "      <th>200</th>\n",
       "      <td>9.0</td>\n",
       "      <td>2016-01-30</td>\n",
       "    </tr>\n",
       "    <tr>\n",
       "      <th>250</th>\n",
       "      <td>63.0</td>\n",
       "      <td>2015-08-08</td>\n",
       "    </tr>\n",
       "    <tr>\n",
       "      <th>300</th>\n",
       "      <td>13.0</td>\n",
       "      <td>2015-02-14</td>\n",
       "    </tr>\n",
       "    <tr>\n",
       "      <th>350</th>\n",
       "      <td>68.0</td>\n",
       "      <td>2014-08-23</td>\n",
       "    </tr>\n",
       "    <tr>\n",
       "      <th>400</th>\n",
       "      <td>18.0</td>\n",
       "      <td>2014-03-01</td>\n",
       "    </tr>\n",
       "    <tr>\n",
       "      <th>450</th>\n",
       "      <td>72.0</td>\n",
       "      <td>2013-09-07</td>\n",
       "    </tr>\n",
       "    <tr>\n",
       "      <th>500</th>\n",
       "      <td>22.0</td>\n",
       "      <td>2013-03-16</td>\n",
       "    </tr>\n",
       "    <tr>\n",
       "      <th>550</th>\n",
       "      <td>76.0</td>\n",
       "      <td>2012-09-22</td>\n",
       "    </tr>\n",
       "    <tr>\n",
       "      <th>600</th>\n",
       "      <td>26.0</td>\n",
       "      <td>2012-03-31</td>\n",
       "    </tr>\n",
       "    <tr>\n",
       "      <th>650</th>\n",
       "      <td>81.0</td>\n",
       "      <td>2011-10-08</td>\n",
       "    </tr>\n",
       "    <tr>\n",
       "      <th>700</th>\n",
       "      <td>31.0</td>\n",
       "      <td>2011-04-16</td>\n",
       "    </tr>\n",
       "    <tr>\n",
       "      <th>750</th>\n",
       "      <td>85.0</td>\n",
       "      <td>2010-10-23</td>\n",
       "    </tr>\n",
       "    <tr>\n",
       "      <th>800</th>\n",
       "      <td>35.0</td>\n",
       "      <td>2010-05-01</td>\n",
       "    </tr>\n",
       "    <tr>\n",
       "      <th>850</th>\n",
       "      <td>89.0</td>\n",
       "      <td>2009-11-07</td>\n",
       "    </tr>\n",
       "    <tr>\n",
       "      <th>900</th>\n",
       "      <td>39.0</td>\n",
       "      <td>2009-05-16</td>\n",
       "    </tr>\n",
       "  </tbody>\n",
       "</table>\n",
       "</div>"
      ],
      "text/plain": [
       "      KOLO      DATUM\n",
       "0    104.0 2017-12-30\n",
       "50    54.0 2017-07-08\n",
       "100    4.0 2017-01-14\n",
       "150   59.0 2016-07-23\n",
       "200    9.0 2016-01-30\n",
       "250   63.0 2015-08-08\n",
       "300   13.0 2015-02-14\n",
       "350   68.0 2014-08-23\n",
       "400   18.0 2014-03-01\n",
       "450   72.0 2013-09-07\n",
       "500   22.0 2013-03-16\n",
       "550   76.0 2012-09-22\n",
       "600   26.0 2012-03-31\n",
       "650   81.0 2011-10-08\n",
       "700   31.0 2011-04-16\n",
       "750   85.0 2010-10-23\n",
       "800   35.0 2010-05-01\n",
       "850   89.0 2009-11-07\n",
       "900   39.0 2009-05-16"
      ]
     },
     "execution_count": 9,
     "metadata": {},
     "output_type": "execute_result"
    }
   ],
   "source": [
    "loto[['KOLO','DATUM']][0:901:50]"
   ]
  },
  {
   "cell_type": "code",
   "execution_count": 10,
   "metadata": {},
   "outputs": [
    {
     "data": {
      "text/plain": [
       "KOLO                         float64\n",
       "DATUM                 datetime64[ns]\n",
       "1BR                            int64\n",
       "2BR                            int64\n",
       "3BR                            int64\n",
       "4BR                            int64\n",
       "5BR                            int64\n",
       "6BR                            int64\n",
       "7BR                            int64\n",
       "ZLATNA KUGLICA                object\n",
       "SLOVO ZA \"SUPER7\"             object\n",
       "DOBITAK\"7\"                    object\n",
       "DOBITAK \"SUPER7\"              object\n",
       "JOKER                        float64\n",
       "UPLATA LOTO 7/39             float64\n",
       "UKUPNO ZA \"7\"                 object\n",
       "UPLATA \"SUPER7\"              float64\n",
       "UKUPNO ZA \"SUPER7\"            object\n",
       "DAN                            int64\n",
       "MJESEC                         int64\n",
       "GOD                            int64\n",
       "dtype: object"
      ]
     },
     "execution_count": 10,
     "metadata": {},
     "output_type": "execute_result"
    }
   ],
   "source": [
    "loto.dtypes"
   ]
  },
  {
   "cell_type": "code",
   "execution_count": 11,
   "metadata": {},
   "outputs": [
    {
     "data": {
      "text/html": [
       "<div>\n",
       "<style scoped>\n",
       "    .dataframe tbody tr th:only-of-type {\n",
       "        vertical-align: middle;\n",
       "    }\n",
       "\n",
       "    .dataframe tbody tr th {\n",
       "        vertical-align: top;\n",
       "    }\n",
       "\n",
       "    .dataframe thead th {\n",
       "        text-align: right;\n",
       "    }\n",
       "</style>\n",
       "<table border=\"1\" class=\"dataframe\">\n",
       "  <thead>\n",
       "    <tr style=\"text-align: right;\">\n",
       "      <th></th>\n",
       "      <th>KOLO</th>\n",
       "      <th>DATUM</th>\n",
       "      <th>1BR</th>\n",
       "      <th>2BR</th>\n",
       "      <th>3BR</th>\n",
       "      <th>4BR</th>\n",
       "      <th>5BR</th>\n",
       "      <th>6BR</th>\n",
       "      <th>7BR</th>\n",
       "      <th>ZLATNA KUGLICA</th>\n",
       "      <th>...</th>\n",
       "      <th>DOBITAK\"7\"</th>\n",
       "      <th>DOBITAK \"SUPER7\"</th>\n",
       "      <th>JOKER</th>\n",
       "      <th>UPLATA LOTO 7/39</th>\n",
       "      <th>UKUPNO ZA \"7\"</th>\n",
       "      <th>UPLATA \"SUPER7\"</th>\n",
       "      <th>UKUPNO ZA \"SUPER7\"</th>\n",
       "      <th>DAN</th>\n",
       "      <th>MJESEC</th>\n",
       "      <th>GOD</th>\n",
       "    </tr>\n",
       "  </thead>\n",
       "  <tbody>\n",
       "    <tr>\n",
       "      <th>0</th>\n",
       "      <td>104.0</td>\n",
       "      <td>2017-12-30</td>\n",
       "      <td>1</td>\n",
       "      <td>2</td>\n",
       "      <td>8</td>\n",
       "      <td>9</td>\n",
       "      <td>10</td>\n",
       "      <td>13</td>\n",
       "      <td>16</td>\n",
       "      <td>NE</td>\n",
       "      <td>...</td>\n",
       "      <td>-</td>\n",
       "      <td>-</td>\n",
       "      <td>296138.0</td>\n",
       "      <td>1520966.7</td>\n",
       "      <td>10000000</td>\n",
       "      <td>299564.1</td>\n",
       "      <td>1.70123e+07</td>\n",
       "      <td>30</td>\n",
       "      <td>12</td>\n",
       "      <td>2017</td>\n",
       "    </tr>\n",
       "    <tr>\n",
       "      <th>1</th>\n",
       "      <td>103.0</td>\n",
       "      <td>2017-12-27</td>\n",
       "      <td>1</td>\n",
       "      <td>3</td>\n",
       "      <td>7</td>\n",
       "      <td>9</td>\n",
       "      <td>21</td>\n",
       "      <td>27</td>\n",
       "      <td>36</td>\n",
       "      <td>NE</td>\n",
       "      <td>...</td>\n",
       "      <td>-</td>\n",
       "      <td>-</td>\n",
       "      <td>977316.0</td>\n",
       "      <td>1173935.7</td>\n",
       "      <td>10000000</td>\n",
       "      <td>225656.1</td>\n",
       "      <td>1.69336e+07</td>\n",
       "      <td>27</td>\n",
       "      <td>12</td>\n",
       "      <td>2017</td>\n",
       "    </tr>\n",
       "    <tr>\n",
       "      <th>2</th>\n",
       "      <td>102.0</td>\n",
       "      <td>2017-12-23</td>\n",
       "      <td>8</td>\n",
       "      <td>12</td>\n",
       "      <td>13</td>\n",
       "      <td>21</td>\n",
       "      <td>27</td>\n",
       "      <td>30</td>\n",
       "      <td>39</td>\n",
       "      <td>NE</td>\n",
       "      <td>...</td>\n",
       "      <td>-</td>\n",
       "      <td>-</td>\n",
       "      <td>718903.0</td>\n",
       "      <td>1444570.2</td>\n",
       "      <td>10000000</td>\n",
       "      <td>283858.2</td>\n",
       "      <td>1.68744e+07</td>\n",
       "      <td>23</td>\n",
       "      <td>12</td>\n",
       "      <td>2017</td>\n",
       "    </tr>\n",
       "    <tr>\n",
       "      <th>3</th>\n",
       "      <td>101.0</td>\n",
       "      <td>2017-12-20</td>\n",
       "      <td>4</td>\n",
       "      <td>8</td>\n",
       "      <td>16</td>\n",
       "      <td>17</td>\n",
       "      <td>18</td>\n",
       "      <td>19</td>\n",
       "      <td>25</td>\n",
       "      <td>NE</td>\n",
       "      <td>...</td>\n",
       "      <td>-</td>\n",
       "      <td>-</td>\n",
       "      <td>987865.0</td>\n",
       "      <td>1344880.8</td>\n",
       "      <td>10000000</td>\n",
       "      <td>260028.9</td>\n",
       "      <td>1.67999e+07</td>\n",
       "      <td>20</td>\n",
       "      <td>12</td>\n",
       "      <td>2017</td>\n",
       "    </tr>\n",
       "    <tr>\n",
       "      <th>4</th>\n",
       "      <td>100.0</td>\n",
       "      <td>2017-12-16</td>\n",
       "      <td>3</td>\n",
       "      <td>8</td>\n",
       "      <td>9</td>\n",
       "      <td>12</td>\n",
       "      <td>17</td>\n",
       "      <td>29</td>\n",
       "      <td>34</td>\n",
       "      <td>NE</td>\n",
       "      <td>...</td>\n",
       "      <td>-</td>\n",
       "      <td>-</td>\n",
       "      <td>837929.0</td>\n",
       "      <td>1464625.8</td>\n",
       "      <td>10000000</td>\n",
       "      <td>273955.5</td>\n",
       "      <td>1.67316e+07</td>\n",
       "      <td>16</td>\n",
       "      <td>12</td>\n",
       "      <td>2017</td>\n",
       "    </tr>\n",
       "  </tbody>\n",
       "</table>\n",
       "<p>5 rows × 21 columns</p>\n",
       "</div>"
      ],
      "text/plain": [
       "    KOLO      DATUM  1BR  2BR  3BR  4BR  5BR  6BR  7BR ZLATNA KUGLICA  ...   \\\n",
       "0  104.0 2017-12-30    1    2    8    9   10   13   16             NE  ...    \n",
       "1  103.0 2017-12-27    1    3    7    9   21   27   36             NE  ...    \n",
       "2  102.0 2017-12-23    8   12   13   21   27   30   39             NE  ...    \n",
       "3  101.0 2017-12-20    4    8   16   17   18   19   25             NE  ...    \n",
       "4  100.0 2017-12-16    3    8    9   12   17   29   34             NE  ...    \n",
       "\n",
       "  DOBITAK\"7\" DOBITAK \"SUPER7\"     JOKER  UPLATA LOTO 7/39  UKUPNO ZA \"7\"  \\\n",
       "0          -                -  296138.0         1520966.7       10000000   \n",
       "1          -                -  977316.0         1173935.7       10000000   \n",
       "2          -                -  718903.0         1444570.2       10000000   \n",
       "3          -                -  987865.0         1344880.8       10000000   \n",
       "4          -                -  837929.0         1464625.8       10000000   \n",
       "\n",
       "  UPLATA \"SUPER7\"  UKUPNO ZA \"SUPER7\" DAN  MJESEC   GOD  \n",
       "0        299564.1         1.70123e+07  30      12  2017  \n",
       "1        225656.1         1.69336e+07  27      12  2017  \n",
       "2        283858.2         1.68744e+07  23      12  2017  \n",
       "3        260028.9         1.67999e+07  20      12  2017  \n",
       "4        273955.5         1.67316e+07  16      12  2017  \n",
       "\n",
       "[5 rows x 21 columns]"
      ]
     },
     "execution_count": 11,
     "metadata": {},
     "output_type": "execute_result"
    }
   ],
   "source": [
    "loto.head()"
   ]
  },
  {
   "cell_type": "markdown",
   "metadata": {},
   "source": [
    "Funkcija convert_date() dijeluje na stupac 'DATUM' te kao rezultat daje pregledan zapis datuma."
   ]
  },
  {
   "cell_type": "markdown",
   "metadata": {},
   "source": [
    "Budući da nam stupci DAN, MJESEC više nisu potrebni možemo ih obrisati. Radi preglednosti tip podataka stupca 'KOLO' iz float prebacimo u integer. "
   ]
  },
  {
   "cell_type": "code",
   "execution_count": 12,
   "metadata": {},
   "outputs": [],
   "source": [
    "del loto['DAN'], loto['MJESEC']"
   ]
  },
  {
   "cell_type": "code",
   "execution_count": 13,
   "metadata": {},
   "outputs": [
    {
     "data": {
      "text/plain": [
       "0    104.0\n",
       "1    103.0\n",
       "2    102.0\n",
       "3    101.0\n",
       "4    100.0\n",
       "5     99.0\n",
       "6     98.0\n",
       "7     97.0\n",
       "8     96.0\n",
       "9     95.0\n",
       "Name: KOLO, dtype: float64"
      ]
     },
     "execution_count": 13,
     "metadata": {},
     "output_type": "execute_result"
    }
   ],
   "source": [
    "loto['KOLO'][:10]"
   ]
  },
  {
   "cell_type": "markdown",
   "metadata": {},
   "source": [
    "----------------------------\n",
    "TODO: mali pregled numpy-a"
   ]
  },
  {
   "cell_type": "code",
   "execution_count": 14,
   "metadata": {},
   "outputs": [],
   "source": [
    "import numpy as np\n",
    "loto['KOLO'] = loto['KOLO'].astype(np.int64)"
   ]
  },
  {
   "cell_type": "code",
   "execution_count": 15,
   "metadata": {},
   "outputs": [
    {
     "data": {
      "text/plain": [
       "KOLO                           int64\n",
       "DATUM                 datetime64[ns]\n",
       "1BR                            int64\n",
       "2BR                            int64\n",
       "3BR                            int64\n",
       "4BR                            int64\n",
       "5BR                            int64\n",
       "6BR                            int64\n",
       "7BR                            int64\n",
       "ZLATNA KUGLICA                object\n",
       "SLOVO ZA \"SUPER7\"             object\n",
       "DOBITAK\"7\"                    object\n",
       "DOBITAK \"SUPER7\"              object\n",
       "JOKER                        float64\n",
       "UPLATA LOTO 7/39             float64\n",
       "UKUPNO ZA \"7\"                 object\n",
       "UPLATA \"SUPER7\"              float64\n",
       "UKUPNO ZA \"SUPER7\"            object\n",
       "GOD                            int64\n",
       "dtype: object"
      ]
     },
     "execution_count": 15,
     "metadata": {},
     "output_type": "execute_result"
    }
   ],
   "source": [
    "loto.dtypes"
   ]
  },
  {
   "cell_type": "markdown",
   "metadata": {},
   "source": [
    "## Pojavljivanje brojeva\n",
    "- kreiramo vektor tako da vektor[0] odgovara broju 1 => potrebno je vektora duljine 39\n",
    "- funkcija koja trci kroz sve brojeve i gleda koji se pojavljuju"
   ]
  },
  {
   "cell_type": "code",
   "execution_count": 16,
   "metadata": {},
   "outputs": [
    {
     "data": {
      "text/plain": [
       "array([[ 1,  0],\n",
       "       [ 2,  0],\n",
       "       [ 3,  0],\n",
       "       [ 4,  0],\n",
       "       [ 5,  0],\n",
       "       [ 6,  0],\n",
       "       [ 7,  0],\n",
       "       [ 8,  0],\n",
       "       [ 9,  0],\n",
       "       [10,  0],\n",
       "       [11,  0],\n",
       "       [12,  0],\n",
       "       [13,  0],\n",
       "       [14,  0],\n",
       "       [15,  0],\n",
       "       [16,  0],\n",
       "       [17,  0],\n",
       "       [18,  0],\n",
       "       [19,  0],\n",
       "       [20,  0],\n",
       "       [21,  0],\n",
       "       [22,  0],\n",
       "       [23,  0],\n",
       "       [24,  0],\n",
       "       [25,  0],\n",
       "       [26,  0],\n",
       "       [27,  0],\n",
       "       [28,  0],\n",
       "       [29,  0],\n",
       "       [30,  0],\n",
       "       [31,  0],\n",
       "       [32,  0],\n",
       "       [33,  0],\n",
       "       [34,  0],\n",
       "       [35,  0],\n",
       "       [36,  0],\n",
       "       [37,  0],\n",
       "       [38,  0],\n",
       "       [39,  0]])"
      ]
     },
     "execution_count": 16,
     "metadata": {},
     "output_type": "execute_result"
    }
   ],
   "source": [
    "draw_number= np.zeros([39, 2], dtype=np.int64)\n",
    "#popuni prvi stupac\n",
    "for i in range (0, 39):\n",
    "    draw_number[i][0]=i+1\n",
    "draw_number"
   ]
  },
  {
   "cell_type": "code",
   "execution_count": 17,
   "metadata": {},
   "outputs": [],
   "source": [
    "def appearence_num (): \n",
    "    for i in range (0, num_of_rows):\n",
    "        draw_number[loto['1BR'][i] -1 ][1] +=1\n",
    "        draw_number[loto['2BR'][i] -1 ][1] +=1\n",
    "        draw_number[loto['3BR'][i] -1 ][1] +=1\n",
    "        draw_number[loto['4BR'][i] -1 ][1] +=1\n",
    "        draw_number[loto['5BR'][i] -1 ][1] +=1\n",
    "        draw_number[loto['6BR'][i] -1 ][1] +=1\n",
    "        draw_number[loto['7BR'][i] -1 ][1] +=1\n"
   ]
  },
  {
   "cell_type": "code",
   "execution_count": 18,
   "metadata": {},
   "outputs": [],
   "source": [
    "def out_appearence_num():\n",
    "    for i in range (0, 39):\n",
    "        print ( draw_number[i][0], '->', draw_number[i][1])"
   ]
  },
  {
   "cell_type": "code",
   "execution_count": 19,
   "metadata": {},
   "outputs": [
    {
     "name": "stdout",
     "output_type": "stream",
     "text": [
      "1 -> 195\n",
      "2 -> 157\n",
      "3 -> 180\n",
      "4 -> 172\n",
      "5 -> 172\n",
      "6 -> 167\n",
      "7 -> 184\n",
      "8 -> 174\n",
      "9 -> 175\n",
      "10 -> 154\n",
      "11 -> 174\n",
      "12 -> 137\n",
      "13 -> 157\n",
      "14 -> 169\n",
      "15 -> 175\n",
      "16 -> 158\n",
      "17 -> 166\n",
      "18 -> 161\n",
      "19 -> 161\n",
      "20 -> 161\n",
      "21 -> 157\n",
      "22 -> 197\n",
      "23 -> 177\n",
      "24 -> 177\n",
      "25 -> 172\n",
      "26 -> 182\n",
      "27 -> 184\n",
      "28 -> 171\n",
      "29 -> 177\n",
      "30 -> 177\n",
      "31 -> 154\n",
      "32 -> 169\n",
      "33 -> 153\n",
      "34 -> 165\n",
      "35 -> 148\n",
      "36 -> 159\n",
      "37 -> 167\n",
      "38 -> 163\n",
      "39 -> 175\n"
     ]
    }
   ],
   "source": [
    "appearence_num()\n",
    "out_appearence_num()"
   ]
  },
  {
   "cell_type": "markdown",
   "metadata": {},
   "source": [
    "Provjerimo dali je funkcija dobra"
   ]
  },
  {
   "cell_type": "code",
   "execution_count": 20,
   "metadata": {},
   "outputs": [
    {
     "data": {
      "text/plain": [
       "True"
      ]
     },
     "execution_count": 20,
     "metadata": {},
     "output_type": "execute_result"
    }
   ],
   "source": [
    "num_of_rows*7 == sum(draw_number)[1]"
   ]
  },
  {
   "cell_type": "markdown",
   "metadata": {},
   "source": [
    "Kako bi saznali koji su brojevi najviše a koji najmanje puta bili izvučeni, iskoristit ćemo funkcije .max() i .min()."
   ]
  },
  {
   "cell_type": "code",
   "execution_count": 21,
   "metadata": {},
   "outputs": [],
   "source": [
    "num, draw= draw_number.T"
   ]
  },
  {
   "cell_type": "code",
   "execution_count": 22,
   "metadata": {},
   "outputs": [
    {
     "data": {
      "text/plain": [
       "(197, 137)"
      ]
     },
     "execution_count": 22,
     "metadata": {},
     "output_type": "execute_result"
    }
   ],
   "source": [
    "draw.max(), draw.min()"
   ]
  },
  {
   "cell_type": "code",
   "execution_count": 23,
   "metadata": {},
   "outputs": [
    {
     "name": "stdout",
     "output_type": "stream",
     "text": [
      "Broj 22  je izvućen  197  puta.\n"
     ]
    }
   ],
   "source": [
    "for i in range (0, 39):\n",
    "    if draw_number[i][1] == draw.max():\n",
    "        print ( 'Broj', i + 1, ' je izvućen ', draw.max(), ' puta.')\n",
    "        break"
   ]
  },
  {
   "cell_type": "code",
   "execution_count": 24,
   "metadata": {},
   "outputs": [
    {
     "name": "stdout",
     "output_type": "stream",
     "text": [
      "Broj 12  je izvućen  137  puta.\n"
     ]
    }
   ],
   "source": [
    "for i in range (0, 39):\n",
    "    if draw_number[i][1] == draw.min():\n",
    "        print ( 'Broj', i + 1, ' je izvućen ', draw.min(), ' puta.')\n",
    "        break"
   ]
  },
  {
   "cell_type": "markdown",
   "metadata": {},
   "source": [
    "Prikažimo grafički koliko se koji broj izvlaćio."
   ]
  },
  {
   "cell_type": "code",
   "execution_count": 25,
   "metadata": {},
   "outputs": [],
   "source": [
    "from matplotlib import pyplot as plt\n",
    "plt.plot(num, draw,  color='r') # 'ro' --> za tockasti graf\n",
    "plt.xlabel('Number')\n",
    "plt.ylabel('Draw')\n",
    "plt.title('Plot of draw number')\n",
    "plt.rcParams[\"figure.figsize\"] = [16,9]\n",
    "plt.minorticks_on()\n",
    "plt.grid(which='major', linestyle='-', linewidth='0.5', color='black' )\n",
    "plt.grid(which='minor', linestyle=':', linewidth='0.5', color='grey')"
   ]
  },
  {
   "cell_type": "code",
   "execution_count": 26,
   "metadata": {},
   "outputs": [],
   "source": [
    "#draw_number[draw_number < draw_number.max()]"
   ]
  },
  {
   "cell_type": "markdown",
   "metadata": {},
   "source": [
    "- dodajem stupac SUMA"
   ]
  },
  {
   "cell_type": "code",
   "execution_count": 27,
   "metadata": {},
   "outputs": [],
   "source": [
    "def add_column_SUMA():\n",
    "    for i in range (0, num_of_rows):\n",
    "        suma= loto['1BR'] + loto['2BR'] + loto['3BR'] + loto['4BR'] + loto['5BR'] + loto['6BR'] + loto['7BR']\n",
    "        loto['SUMA']= suma"
   ]
  },
  {
   "cell_type": "code",
   "execution_count": 28,
   "metadata": {},
   "outputs": [],
   "source": [
    "add_column_SUMA()"
   ]
  },
  {
   "cell_type": "code",
   "execution_count": 29,
   "metadata": {},
   "outputs": [
    {
     "data": {
      "text/plain": [
       "(226, 59, 139.12140575079871)"
      ]
     },
     "execution_count": 29,
     "metadata": {},
     "output_type": "execute_result"
    }
   ],
   "source": [
    "loto['SUMA'].max(), loto['SUMA'].min(), loto['SUMA'].mean()"
   ]
  },
  {
   "cell_type": "markdown",
   "metadata": {},
   "source": [
    "#### Pogledajmo odnos između sume niza brojeva koji su izvučeni na određeni dan. Zatim pogledajmo kako se razvijalo u pojedinim godinama."
   ]
  },
  {
   "cell_type": "code",
   "execution_count": 30,
   "metadata": {
    "scrolled": true
   },
   "outputs": [
    {
     "data": {
      "text/plain": [
       "<matplotlib.legend.Legend at 0x7fd57d974eb8>"
      ]
     },
     "execution_count": 30,
     "metadata": {},
     "output_type": "execute_result"
    },
    {
     "data": {
      "image/png": "[encoded data removed]",
      "text/plain": [
       "<matplotlib.figure.Figure at 0x7fd57d86ef60>"
      ]
     },
     "metadata": {},
     "output_type": "display_data"
    }
   ],
   "source": [
    "fig1, ax1 = plt.subplots()\n",
    "ax1.set_title('Proba')\n",
    "plt.xlabel('Date')\n",
    "plt.ylabel('Sum')\n",
    "plt.rcParams[\"figure.figsize\"] = [16,9]\n",
    "plt.minorticks_on()\n",
    "plt.grid(which='major', linestyle='-', linewidth='0.5', color='grey' )\n",
    "plt.grid(which='minor', linestyle=':', linewidth='0.5', color='grey')\n",
    "\n",
    "ax1.plot(loto['DATUM'], loto['SUMA'], color='r', label='Suma brojeva pojedinog dana izvlaćenja')\n",
    "\n",
    "sred = np.full(num_of_rows, loto['SUMA'].mean() , dtype=np.int64)\n",
    "ax1.plot(loto['DATUM'], sred, color='g', label='Srednja suma')\n",
    "\n",
    "ax1.legend(loc=9)"
   ]
  },
  {
   "cell_type": "markdown",
   "metadata": {},
   "source": [
    "TODO: \n",
    "- uvod koliko puta je izvucena ista suma brojeva\n",
    "- kreiram listu tako da lista[0] = sum_28"
   ]
  },
  {
   "cell_type": "code",
   "execution_count": 31,
   "metadata": {},
   "outputs": [
    {
     "name": "stdout",
     "output_type": "stream",
     "text": [
      "Minimalna suma je  28  maksimalna suma je  252\n"
     ]
    }
   ],
   "source": [
    "min_sum = 1 + 2 + 3 + 4 + 5 + 6 + 7\n",
    "max_sum = 39 + 38 + 37 + 36 + 35 + 34 + 33\n",
    "print ('Minimalna suma je ', min_sum, ' maksimalna suma je ', max_sum)"
   ]
  },
  {
   "cell_type": "code",
   "execution_count": 32,
   "metadata": {},
   "outputs": [],
   "source": [
    "possible_sum= np.zeros([max_sum - min_sum + 1, 2], dtype=np.int64)\n",
    "#popuni prvi stupac (vrijednost sume)\n",
    "for i in range (0, max_sum - min_sum + 1):\n",
    "    possible_sum[i][0]=i + min_sum"
   ]
  },
  {
   "cell_type": "code",
   "execution_count": 33,
   "metadata": {},
   "outputs": [],
   "source": [
    "for i in range (0, num_of_rows):\n",
    "    possible_sum[loto['SUMA'][i] - min_sum][1] += 1\n",
    "#possible_sum"
   ]
  },
  {
   "cell_type": "markdown",
   "metadata": {},
   "source": [
    "Sortirajmo danu listu possible_sum prema broju pojavljivanja pojedine sume"
   ]
  },
  {
   "cell_type": "code",
   "execution_count": 34,
   "metadata": {},
   "outputs": [
    {
     "data": {
      "text/plain": [
       "[array([28,  0]),\n",
       " array([29,  0]),\n",
       " array([30,  0]),\n",
       " array([31,  0]),\n",
       " array([32,  0]),\n",
       " array([33,  0]),\n",
       " array([34,  0]),\n",
       " array([35,  0]),\n",
       " array([36,  0]),\n",
       " array([37,  0]),\n",
       " array([38,  0]),\n",
       " array([39,  0]),\n",
       " array([40,  0]),\n",
       " array([41,  0]),\n",
       " array([42,  0]),\n",
       " array([43,  0]),\n",
       " array([44,  0]),\n",
       " array([45,  0]),\n",
       " array([46,  0]),\n",
       " array([47,  0]),\n",
       " array([48,  0]),\n",
       " array([49,  0]),\n",
       " array([50,  0]),\n",
       " array([51,  0]),\n",
       " array([52,  0]),\n",
       " array([53,  0]),\n",
       " array([54,  0]),\n",
       " array([55,  0]),\n",
       " array([56,  0]),\n",
       " array([57,  0]),\n",
       " array([58,  0]),\n",
       " array([60,  0]),\n",
       " array([61,  0]),\n",
       " array([62,  0]),\n",
       " array([63,  0]),\n",
       " array([64,  0]),\n",
       " array([66,  0]),\n",
       " array([67,  0]),\n",
       " array([68,  0]),\n",
       " array([70,  0]),\n",
       " array([71,  0]),\n",
       " array([72,  0]),\n",
       " array([74,  0]),\n",
       " array([76,  0]),\n",
       " array([77,  0]),\n",
       " array([81,  0]),\n",
       " array([195,   0]),\n",
       " array([203,   0]),\n",
       " array([204,   0]),\n",
       " array([206,   0]),\n",
       " array([207,   0]),\n",
       " array([208,   0]),\n",
       " array([212,   0]),\n",
       " array([213,   0]),\n",
       " array([214,   0]),\n",
       " array([215,   0]),\n",
       " array([216,   0]),\n",
       " array([219,   0]),\n",
       " array([220,   0]),\n",
       " array([221,   0]),\n",
       " array([222,   0]),\n",
       " array([223,   0]),\n",
       " array([224,   0]),\n",
       " array([225,   0]),\n",
       " array([227,   0]),\n",
       " array([228,   0]),\n",
       " array([229,   0]),\n",
       " array([230,   0]),\n",
       " array([231,   0]),\n",
       " array([232,   0]),\n",
       " array([233,   0]),\n",
       " array([234,   0]),\n",
       " array([235,   0]),\n",
       " array([236,   0]),\n",
       " array([237,   0]),\n",
       " array([238,   0]),\n",
       " array([239,   0]),\n",
       " array([240,   0]),\n",
       " array([241,   0]),\n",
       " array([242,   0]),\n",
       " array([243,   0]),\n",
       " array([244,   0]),\n",
       " array([245,   0]),\n",
       " array([246,   0]),\n",
       " array([247,   0]),\n",
       " array([248,   0]),\n",
       " array([249,   0]),\n",
       " array([250,   0]),\n",
       " array([251,   0]),\n",
       " array([252,   0]),\n",
       " array([65,  1]),\n",
       " array([69,  1]),\n",
       " array([75,  1]),\n",
       " array([78,  1]),\n",
       " array([79,  1]),\n",
       " array([80,  1]),\n",
       " array([82,  1]),\n",
       " array([88,  1]),\n",
       " array([92,  1]),\n",
       " array([192,   1]),\n",
       " array([198,   1]),\n",
       " array([200,   1]),\n",
       " array([202,   1]),\n",
       " array([209,   1]),\n",
       " array([210,   1]),\n",
       " array([211,   1]),\n",
       " array([217,   1]),\n",
       " array([218,   1]),\n",
       " array([226,   1]),\n",
       " array([59,  2]),\n",
       " array([85,  2]),\n",
       " array([89,  2]),\n",
       " array([95,  2]),\n",
       " array([174,   2]),\n",
       " array([179,   2]),\n",
       " array([184,   2]),\n",
       " array([187,   2]),\n",
       " array([188,   2]),\n",
       " array([190,   2]),\n",
       " array([194,   2]),\n",
       " array([205,   2]),\n",
       " array([73,  3]),\n",
       " array([86,  3]),\n",
       " array([96,  3]),\n",
       " array([106,   3]),\n",
       " array([175,   3]),\n",
       " array([176,   3]),\n",
       " array([180,   3]),\n",
       " array([189,   3]),\n",
       " array([191,   3]),\n",
       " array([197,   3]),\n",
       " array([199,   3]),\n",
       " array([201,   3]),\n",
       " array([83,  4]),\n",
       " array([84,  4]),\n",
       " array([87,  4]),\n",
       " array([90,  4]),\n",
       " array([91,  4]),\n",
       " array([93,  4]),\n",
       " array([94,  4]),\n",
       " array([97,  4]),\n",
       " array([99,  4]),\n",
       " array([181,   4]),\n",
       " array([193,   4]),\n",
       " array([103,   5]),\n",
       " array([164,   5]),\n",
       " array([182,   5]),\n",
       " array([101,   6]),\n",
       " array([102,   6]),\n",
       " array([108,   6]),\n",
       " array([109,   6]),\n",
       " array([131,   6]),\n",
       " array([155,   6]),\n",
       " array([162,   6]),\n",
       " array([171,   6]),\n",
       " array([183,   6]),\n",
       " array([196,   6]),\n",
       " array([111,   7]),\n",
       " array([124,   7]),\n",
       " array([138,   7]),\n",
       " array([165,   7]),\n",
       " array([167,   7]),\n",
       " array([168,   7]),\n",
       " array([178,   7]),\n",
       " array([185,   7]),\n",
       " array([186,   7]),\n",
       " array([100,   8]),\n",
       " array([107,   8]),\n",
       " array([113,   8]),\n",
       " array([114,   8]),\n",
       " array([151,   8]),\n",
       " array([158,   8]),\n",
       " array([161,   8]),\n",
       " array([166,   8]),\n",
       " array([170,   8]),\n",
       " array([173,   8]),\n",
       " array([105,   9]),\n",
       " array([115,   9]),\n",
       " array([116,   9]),\n",
       " array([118,   9]),\n",
       " array([137,   9]),\n",
       " array([177,   9]),\n",
       " array([112,  10]),\n",
       " array([121,  10]),\n",
       " array([128,  10]),\n",
       " array([130,  10]),\n",
       " array([134,  10]),\n",
       " array([152,  10]),\n",
       " array([153,  10]),\n",
       " array([172,  10]),\n",
       " array([98, 11]),\n",
       " array([117,  11]),\n",
       " array([122,  11]),\n",
       " array([126,  11]),\n",
       " array([127,  11]),\n",
       " array([147,  11]),\n",
       " array([163,  11]),\n",
       " array([104,  12]),\n",
       " array([125,  12]),\n",
       " array([129,  12]),\n",
       " array([133,  12]),\n",
       " array([136,  12]),\n",
       " array([149,  12]),\n",
       " array([159,  12]),\n",
       " array([160,  12]),\n",
       " array([110,  13]),\n",
       " array([144,  13]),\n",
       " array([154,  13]),\n",
       " array([156,  13]),\n",
       " array([157,  13]),\n",
       " array([120,  14]),\n",
       " array([141,  14]),\n",
       " array([142,  14]),\n",
       " array([148,  14]),\n",
       " array([169,  14]),\n",
       " array([123,  15]),\n",
       " array([135,  15]),\n",
       " array([140,  15]),\n",
       " array([145,  15]),\n",
       " array([146,  15]),\n",
       " array([150,  15]),\n",
       " array([132,  16]),\n",
       " array([139,  16]),\n",
       " array([119,  17]),\n",
       " array([143,  17])]"
      ]
     },
     "execution_count": 34,
     "metadata": {},
     "output_type": "execute_result"
    }
   ],
   "source": [
    "from operator import itemgetter, attrgetter\n",
    "sorted(possible_sum, key=itemgetter(1))"
   ]
  },
  {
   "cell_type": "code",
   "execution_count": 35,
   "metadata": {},
   "outputs": [
    {
     "name": "stdout",
     "output_type": "stream",
     "text": [
      "Sume koje se pojavljuju  0 puta (ujedno i minimalno): \n",
      "[28, 29, 30, 31, 32, 33, 34, 35, 36, 37, 38, 39, 40, 41, 42, 43, 44, 45, 46, 47, 48, 49, 50, 51, 52, 53, 54, 55, 56, 57, 58, 60, 61, 62, 63, 64, 66, 67, 68, 70, 71, 72, 74, 76, 77, 81, 195, 203, 204, 206, 207, 208, 212, 213, 214, 215, 216, 219, 220, 221, 222, 223, 224, 225, 227, 228, 229, 230, 231, 232, 233, 234, 235, 236, 237, 238, 239, 240, 241, 242, 243, 244, 245, 246, 247, 248, 249, 250, 251, 252]\n"
     ]
    }
   ],
   "source": [
    "suma, appear = possible_sum.T\n",
    "br=0\n",
    "lista = []\n",
    "print ('Sume koje se pojavljuju ', appear.min(), 'puta (ujedno i minimalno): ')\n",
    "for i in range (0, max_sum - min_sum +1):\n",
    "    if possible_sum[i][1] == appear.min():\n",
    "        lista.insert (br, i + min_sum)\n",
    "        br += 1\n",
    "print(lista)"
   ]
  },
  {
   "cell_type": "code",
   "execution_count": 36,
   "metadata": {},
   "outputs": [
    {
     "data": {
      "text/plain": [
       "40.17857142857143"
      ]
     },
     "execution_count": 36,
     "metadata": {},
     "output_type": "execute_result"
    }
   ],
   "source": [
    "br / (max_sum - min_sum) * 100 "
   ]
  },
  {
   "cell_type": "markdown",
   "metadata": {},
   "source": [
    "Uoćimo da se čak 90 od 224 suma jos nikada nisu pojavile tj 40.1786% se nikada nisu pojavile."
   ]
  },
  {
   "cell_type": "code",
   "execution_count": 37,
   "metadata": {},
   "outputs": [
    {
     "name": "stdout",
     "output_type": "stream",
     "text": [
      "Sume koje se pojavljuju najčešće tj. 17 puta: \n",
      "119\n",
      "143\n"
     ]
    }
   ],
   "source": [
    "print ('Sume koje se pojavljuju najčešće tj.', appear.max(), 'puta: ')\n",
    "for i in range (0, max_sum - min_sum +1):\n",
    "    if possible_sum[i][1] == appear.max():\n",
    "        print (i + min_sum)"
   ]
  },
  {
   "cell_type": "markdown",
   "metadata": {},
   "source": [
    "#### Provjerimo je li koji niz dva puta izvučen"
   ]
  },
  {
   "cell_type": "code",
   "execution_count": 38,
   "metadata": {},
   "outputs": [],
   "source": [
    "def twice_draw (array_num_):\n",
    "    #print(array_num_)\n",
    "    br = 0\n",
    "    suma = sum(array_num_)\n",
    "    #print (suma)\n",
    "    for i in range (0, num_of_rows):\n",
    "        if loto['SUMA'][i] == suma:\n",
    "            if loto['1BR'][i]  == array_num_[0] and loto['2BR'][i]  == array_num_[1] and loto['3BR'][i]  == array_num_[2] and loto['4BR'][i]  == array_num_[3] and loto['5BR'][i]  == array_num_[4] and loto['6BR'][i]  == array_num_[5] and loto['7BR'][i]  == array_num_[6] :\n",
    "                br += 1\n",
    "    #print ( 'Niz se pojavljuje', br, 'puta')\n",
    "    return ( br )"
   ]
  },
  {
   "cell_type": "code",
   "execution_count": 39,
   "metadata": {},
   "outputs": [],
   "source": [
    "for i in range (0, num_of_rows):\n",
    "    array_num = []\n",
    "    array_num.append (loto['1BR'][i])\n",
    "    array_num.append (loto['2BR'][i])\n",
    "    array_num.append (loto['3BR'][i])\n",
    "    array_num.append (loto['4BR'][i])\n",
    "    array_num.append (loto['5BR'][i])\n",
    "    array_num.append (loto['6BR'][i])\n",
    "    array_num.append (loto['7BR'][i])\n",
    "    appear_array = twice_draw (array_num)\n",
    "    if appear_array > 1 :\n",
    "        print (array_num, 'se pojavljuje', appear_array, 'puta')"
   ]
  },
  {
   "cell_type": "markdown",
   "metadata": {},
   "source": [
    "------------------\n",
    "# IDEJE\n",
    "- za svaku godinu graf -suma - datum\n",
    "- bolje dodaj histogram\n",
    "- vjv pojave pojedniog broja\n",
    "- kolko puta je izvucena ista suma brojeva\n",
    "- 3D graf broj - broj - suma - \n",
    "- funk za provjeru dali je izvucen isti niz brojeva\n",
    "- struktura- nizovi ? za sada uspjesno zaobilazim to\n",
    "- rekurzivna funkcija za moguće nizove\n",
    "    - u funkciju dodati ograničenost na sumu niza, sumu vjv pojave pojedinog broja, vjv pojave dva broja u kombinaciji.. dok ne dodes do kolicine nizova koji su mozda smisleni\n",
    "- kolicina pojave određena dva/tri.. broja zajedno\n",
    "- izvucen dobitak - kolika uplata/sumaNiza spram ostalih izvlacenja\n",
    "- analiza gdje su dobitnici"
   ]
  },
  {
   "cell_type": "code",
   "execution_count": null,
   "metadata": {},
   "outputs": [],
   "source": []
  }
 ],
 "metadata": {
  "kernelspec": {
   "display_name": "Python 3",
   "language": "python",
   "name": "python3"
  },
  "language_info": {
   "codemirror_mode": {
    "name": "ipython",
    "version": 3
   },
   "file_extension": ".py",
   "mimetype": "text/x-python",
   "name": "python",
   "nbconvert_exporter": "python",
   "pygments_lexer": "ipython3",
   "version": "3.6.4"
  }
 },
 "nbformat": 4,
 "nbformat_minor": 2
}
