{
 "cells": [
  {
   "cell_type": "markdown",
   "metadata": {},
   "source": [
    "# 1. ZADAĆA"
   ]
  },
  {
   "cell_type": "markdown",
   "metadata": {},
   "source": [
    "TODO: \n",
    "- uvod\n",
    "    - ideja\n",
    "    - cilj?\n",
    "    - prilagodba baze podataka- kopiranje, 1-5BR\n",
    "---------------------------\n",
    "- mali pregled pandas-a"
   ]
  },
  {
   "cell_type": "code",
   "execution_count": 1,
   "metadata": {},
   "outputs": [],
   "source": [
    "import pandas as pd \n",
    "loto = pd.read_excel('Loto7od39.xls')"
   ]
  },
  {
   "cell_type": "code",
   "execution_count": 2,
   "metadata": {},
   "outputs": [
    {
     "data": {
      "text/plain": [
       "Index(['KOLO', 'DATUM', '1BR', '2BR', '3BR', '4BR', '5BR', '6BR', '7BR',\n",
       "       'ZLATNA KUGLICA', 'SLOVO ZA \"SUPER7\"', 'DOBITAK\"7\"', 'DOBITAK \"SUPER7\"',\n",
       "       'JOKER', 'UPLATA LOTO 7/39', 'UKUPNO ZA \"7\"', 'UPLATA \"SUPER7\"',\n",
       "       'UKUPNO ZA \"SUPER7\"'],\n",
       "      dtype='object')"
      ]
     },
     "execution_count": 2,
     "metadata": {},
     "output_type": "execute_result"
    }
   ],
   "source": [
    "loto.columns"
   ]
  },
  {
   "cell_type": "code",
   "execution_count": 3,
   "metadata": {},
   "outputs": [
    {
     "data": {
      "text/html": [
       "<div>\n",
       "<style scoped>\n",
       "    .dataframe tbody tr th:only-of-type {\n",
       "        vertical-align: middle;\n",
       "    }\n",
       "\n",
       "    .dataframe tbody tr th {\n",
       "        vertical-align: top;\n",
       "    }\n",
       "\n",
       "    .dataframe thead th {\n",
       "        text-align: right;\n",
       "    }\n",
       "</style>\n",
       "<table border=\"1\" class=\"dataframe\">\n",
       "  <thead>\n",
       "    <tr style=\"text-align: right;\">\n",
       "      <th></th>\n",
       "      <th>KOLO</th>\n",
       "      <th>DATUM</th>\n",
       "      <th>1BR</th>\n",
       "      <th>2BR</th>\n",
       "      <th>3BR</th>\n",
       "      <th>4BR</th>\n",
       "      <th>5BR</th>\n",
       "      <th>6BR</th>\n",
       "      <th>7BR</th>\n",
       "      <th>ZLATNA KUGLICA</th>\n",
       "      <th>SLOVO ZA \"SUPER7\"</th>\n",
       "      <th>DOBITAK\"7\"</th>\n",
       "      <th>DOBITAK \"SUPER7\"</th>\n",
       "      <th>JOKER</th>\n",
       "      <th>UPLATA LOTO 7/39</th>\n",
       "      <th>UKUPNO ZA \"7\"</th>\n",
       "      <th>UPLATA \"SUPER7\"</th>\n",
       "      <th>UKUPNO ZA \"SUPER7\"</th>\n",
       "    </tr>\n",
       "  </thead>\n",
       "  <tbody>\n",
       "    <tr>\n",
       "      <th>0</th>\n",
       "      <td>104.0</td>\n",
       "      <td>30.12.</td>\n",
       "      <td>1</td>\n",
       "      <td>2</td>\n",
       "      <td>8</td>\n",
       "      <td>9</td>\n",
       "      <td>10</td>\n",
       "      <td>13</td>\n",
       "      <td>16</td>\n",
       "      <td>NE</td>\n",
       "      <td>B</td>\n",
       "      <td>-</td>\n",
       "      <td>-</td>\n",
       "      <td>296138.0</td>\n",
       "      <td>1520966.7</td>\n",
       "      <td>10000000</td>\n",
       "      <td>299564.1</td>\n",
       "      <td>1.70123e+07</td>\n",
       "    </tr>\n",
       "    <tr>\n",
       "      <th>1</th>\n",
       "      <td>103.0</td>\n",
       "      <td>27.12.</td>\n",
       "      <td>1</td>\n",
       "      <td>3</td>\n",
       "      <td>7</td>\n",
       "      <td>9</td>\n",
       "      <td>21</td>\n",
       "      <td>27</td>\n",
       "      <td>36</td>\n",
       "      <td>NE</td>\n",
       "      <td>A</td>\n",
       "      <td>-</td>\n",
       "      <td>-</td>\n",
       "      <td>977316.0</td>\n",
       "      <td>1173935.7</td>\n",
       "      <td>10000000</td>\n",
       "      <td>225656.1</td>\n",
       "      <td>1.69336e+07</td>\n",
       "    </tr>\n",
       "    <tr>\n",
       "      <th>2</th>\n",
       "      <td>102.0</td>\n",
       "      <td>23.12.</td>\n",
       "      <td>8</td>\n",
       "      <td>12</td>\n",
       "      <td>13</td>\n",
       "      <td>21</td>\n",
       "      <td>27</td>\n",
       "      <td>30</td>\n",
       "      <td>39</td>\n",
       "      <td>NE</td>\n",
       "      <td>B</td>\n",
       "      <td>-</td>\n",
       "      <td>-</td>\n",
       "      <td>718903.0</td>\n",
       "      <td>1444570.2</td>\n",
       "      <td>10000000</td>\n",
       "      <td>283858.2</td>\n",
       "      <td>1.68744e+07</td>\n",
       "    </tr>\n",
       "    <tr>\n",
       "      <th>3</th>\n",
       "      <td>101.0</td>\n",
       "      <td>20.12.</td>\n",
       "      <td>4</td>\n",
       "      <td>8</td>\n",
       "      <td>16</td>\n",
       "      <td>17</td>\n",
       "      <td>18</td>\n",
       "      <td>19</td>\n",
       "      <td>25</td>\n",
       "      <td>NE</td>\n",
       "      <td>B</td>\n",
       "      <td>-</td>\n",
       "      <td>-</td>\n",
       "      <td>987865.0</td>\n",
       "      <td>1344880.8</td>\n",
       "      <td>10000000</td>\n",
       "      <td>260028.9</td>\n",
       "      <td>1.67999e+07</td>\n",
       "    </tr>\n",
       "    <tr>\n",
       "      <th>4</th>\n",
       "      <td>100.0</td>\n",
       "      <td>16.12.</td>\n",
       "      <td>3</td>\n",
       "      <td>8</td>\n",
       "      <td>9</td>\n",
       "      <td>12</td>\n",
       "      <td>17</td>\n",
       "      <td>29</td>\n",
       "      <td>34</td>\n",
       "      <td>NE</td>\n",
       "      <td>A</td>\n",
       "      <td>-</td>\n",
       "      <td>-</td>\n",
       "      <td>837929.0</td>\n",
       "      <td>1464625.8</td>\n",
       "      <td>10000000</td>\n",
       "      <td>273955.5</td>\n",
       "      <td>1.67316e+07</td>\n",
       "    </tr>\n",
       "  </tbody>\n",
       "</table>\n",
       "</div>"
      ],
      "text/plain": [
       "    KOLO   DATUM  1BR  2BR  3BR  4BR  5BR  6BR  7BR ZLATNA KUGLICA  \\\n",
       "0  104.0  30.12.    1    2    8    9   10   13   16             NE   \n",
       "1  103.0  27.12.    1    3    7    9   21   27   36             NE   \n",
       "2  102.0  23.12.    8   12   13   21   27   30   39             NE   \n",
       "3  101.0  20.12.    4    8   16   17   18   19   25             NE   \n",
       "4  100.0  16.12.    3    8    9   12   17   29   34             NE   \n",
       "\n",
       "  SLOVO ZA \"SUPER7\" DOBITAK\"7\" DOBITAK \"SUPER7\"     JOKER  UPLATA LOTO 7/39  \\\n",
       "0                 B          -                -  296138.0         1520966.7   \n",
       "1                 A          -                -  977316.0         1173935.7   \n",
       "2                 B          -                -  718903.0         1444570.2   \n",
       "3                 B          -                -  987865.0         1344880.8   \n",
       "4                 A          -                -  837929.0         1464625.8   \n",
       "\n",
       "  UKUPNO ZA \"7\"  UPLATA \"SUPER7\" UKUPNO ZA \"SUPER7\"  \n",
       "0      10000000         299564.1        1.70123e+07  \n",
       "1      10000000         225656.1        1.69336e+07  \n",
       "2      10000000         283858.2        1.68744e+07  \n",
       "3      10000000         260028.9        1.67999e+07  \n",
       "4      10000000         273955.5        1.67316e+07  "
      ]
     },
     "execution_count": 3,
     "metadata": {},
     "output_type": "execute_result"
    }
   ],
   "source": [
    "loto.head()"
   ]
  },
  {
   "cell_type": "code",
   "execution_count": 4,
   "metadata": {},
   "outputs": [
    {
     "data": {
      "text/plain": [
       "KOLO                  float64\n",
       "DATUM                  object\n",
       "1BR                     int64\n",
       "2BR                     int64\n",
       "3BR                     int64\n",
       "4BR                     int64\n",
       "5BR                     int64\n",
       "6BR                     int64\n",
       "7BR                     int64\n",
       "ZLATNA KUGLICA         object\n",
       "SLOVO ZA \"SUPER7\"      object\n",
       "DOBITAK\"7\"             object\n",
       "DOBITAK \"SUPER7\"       object\n",
       "JOKER                 float64\n",
       "UPLATA LOTO 7/39      float64\n",
       "UKUPNO ZA \"7\"          object\n",
       "UPLATA \"SUPER7\"       float64\n",
       "UKUPNO ZA \"SUPER7\"     object\n",
       "dtype: object"
      ]
     },
     "execution_count": 4,
     "metadata": {},
     "output_type": "execute_result"
    }
   ],
   "source": [
    "loto.dtypes"
   ]
  },
  {
   "cell_type": "markdown",
   "metadata": {},
   "source": [
    "--------------------\n",
    "# Pogledajmo DATUM"
   ]
  },
  {
   "cell_type": "code",
   "execution_count": 5,
   "metadata": {},
   "outputs": [
    {
     "data": {
      "text/html": [
       "<div>\n",
       "<style scoped>\n",
       "    .dataframe tbody tr th:only-of-type {\n",
       "        vertical-align: middle;\n",
       "    }\n",
       "\n",
       "    .dataframe tbody tr th {\n",
       "        vertical-align: top;\n",
       "    }\n",
       "\n",
       "    .dataframe thead th {\n",
       "        text-align: right;\n",
       "    }\n",
       "</style>\n",
       "<table border=\"1\" class=\"dataframe\">\n",
       "  <thead>\n",
       "    <tr style=\"text-align: right;\">\n",
       "      <th></th>\n",
       "      <th>KOLO</th>\n",
       "      <th>DATUM</th>\n",
       "    </tr>\n",
       "  </thead>\n",
       "  <tbody>\n",
       "    <tr>\n",
       "      <th>0</th>\n",
       "      <td>104.0</td>\n",
       "      <td>30.12.</td>\n",
       "    </tr>\n",
       "    <tr>\n",
       "      <th>1</th>\n",
       "      <td>103.0</td>\n",
       "      <td>27.12.</td>\n",
       "    </tr>\n",
       "    <tr>\n",
       "      <th>2</th>\n",
       "      <td>102.0</td>\n",
       "      <td>23.12.</td>\n",
       "    </tr>\n",
       "    <tr>\n",
       "      <th>3</th>\n",
       "      <td>101.0</td>\n",
       "      <td>20.12.</td>\n",
       "    </tr>\n",
       "    <tr>\n",
       "      <th>4</th>\n",
       "      <td>100.0</td>\n",
       "      <td>16.12.</td>\n",
       "    </tr>\n",
       "    <tr>\n",
       "      <th>5</th>\n",
       "      <td>99.0</td>\n",
       "      <td>13.12.</td>\n",
       "    </tr>\n",
       "    <tr>\n",
       "      <th>6</th>\n",
       "      <td>98.0</td>\n",
       "      <td>9.12.</td>\n",
       "    </tr>\n",
       "    <tr>\n",
       "      <th>7</th>\n",
       "      <td>97.0</td>\n",
       "      <td>6.12.</td>\n",
       "    </tr>\n",
       "    <tr>\n",
       "      <th>8</th>\n",
       "      <td>96.0</td>\n",
       "      <td>2.12.</td>\n",
       "    </tr>\n",
       "    <tr>\n",
       "      <th>9</th>\n",
       "      <td>95.0</td>\n",
       "      <td>29.11.</td>\n",
       "    </tr>\n",
       "    <tr>\n",
       "      <th>10</th>\n",
       "      <td>94.0</td>\n",
       "      <td>25.11.</td>\n",
       "    </tr>\n",
       "    <tr>\n",
       "      <th>11</th>\n",
       "      <td>93.0</td>\n",
       "      <td>22.11.</td>\n",
       "    </tr>\n",
       "    <tr>\n",
       "      <th>12</th>\n",
       "      <td>92.0</td>\n",
       "      <td>18.11.</td>\n",
       "    </tr>\n",
       "    <tr>\n",
       "      <th>13</th>\n",
       "      <td>91.0</td>\n",
       "      <td>15.11.</td>\n",
       "    </tr>\n",
       "    <tr>\n",
       "      <th>14</th>\n",
       "      <td>90.0</td>\n",
       "      <td>11.11.</td>\n",
       "    </tr>\n",
       "    <tr>\n",
       "      <th>15</th>\n",
       "      <td>89.0</td>\n",
       "      <td>8.11.</td>\n",
       "    </tr>\n",
       "    <tr>\n",
       "      <th>16</th>\n",
       "      <td>88.0</td>\n",
       "      <td>4.11.</td>\n",
       "    </tr>\n",
       "    <tr>\n",
       "      <th>17</th>\n",
       "      <td>87.0</td>\n",
       "      <td>1.11.</td>\n",
       "    </tr>\n",
       "    <tr>\n",
       "      <th>18</th>\n",
       "      <td>86.0</td>\n",
       "      <td>28.10.</td>\n",
       "    </tr>\n",
       "    <tr>\n",
       "      <th>19</th>\n",
       "      <td>85.0</td>\n",
       "      <td>25.10.</td>\n",
       "    </tr>\n",
       "  </tbody>\n",
       "</table>\n",
       "</div>"
      ],
      "text/plain": [
       "     KOLO   DATUM\n",
       "0   104.0  30.12.\n",
       "1   103.0  27.12.\n",
       "2   102.0  23.12.\n",
       "3   101.0  20.12.\n",
       "4   100.0  16.12.\n",
       "5    99.0  13.12.\n",
       "6    98.0   9.12.\n",
       "7    97.0   6.12.\n",
       "8    96.0   2.12.\n",
       "9    95.0  29.11.\n",
       "10   94.0  25.11.\n",
       "11   93.0  22.11.\n",
       "12   92.0  18.11.\n",
       "13   91.0  15.11.\n",
       "14   90.0  11.11.\n",
       "15   89.0   8.11.\n",
       "16   88.0   4.11.\n",
       "17   87.0   1.11.\n",
       "18   86.0  28.10.\n",
       "19   85.0  25.10."
      ]
     },
     "execution_count": 5,
     "metadata": {},
     "output_type": "execute_result"
    }
   ],
   "source": [
    "loto[['KOLO','DATUM']][:20]"
   ]
  },
  {
   "cell_type": "markdown",
   "metadata": {},
   "source": [
    "Uočimo da se u bazi nalaze datumi na razne načine zapisani te nisu navedene godine. Budući da će nam biti potrebni točni datumi za izradu određenih grafova te pregled kola po godinama stoga na početku prilagodimo bazu podataka budućim zahtjevima.\n",
    "\n",
    "### DATUM convertiramo iz object u date time\n",
    "TODO: pseudokod?\n",
    "\n",
    "Postupak:\n",
    "1. iz stringa DATUM izvuc dan \n",
    "2. iz stringa DATUM izvuc mjesec\n",
    "3. dodati godinu ovisno o kolu\n",
    "4. nova tri stupca spojis u datum"
   ]
  },
  {
   "cell_type": "code",
   "execution_count": 6,
   "metadata": {},
   "outputs": [
    {
     "data": {
      "text/plain": [
       "939"
      ]
     },
     "execution_count": 6,
     "metadata": {},
     "output_type": "execute_result"
    }
   ],
   "source": [
    "num_of_rows= loto[\"KOLO\"].count()\n",
    "num_of_rows"
   ]
  },
  {
   "cell_type": "code",
   "execution_count": 7,
   "metadata": {},
   "outputs": [],
   "source": [
    "def convert_date():\n",
    "    year= []\n",
    "    month= []\n",
    "    dani= []\n",
    "    y=2017\n",
    "    for i in range (0, num_of_rows ):\n",
    "        first_dot= loto['DATUM'][i].find(\".\")\n",
    "        d= int(loto['DATUM'][i][0:first_dot])\n",
    "        second_dot= loto['DATUM'][i].find(\".\", first_dot + 1)\n",
    "        m = int(loto['DATUM'][i][first_dot+1:second_dot])\n",
    "\n",
    "        if (i>0 and (loto['KOLO'][i-1]<loto['KOLO'][i] ) ):\n",
    "            y = y- 1\n",
    "\n",
    "\n",
    "        month.append(m)\n",
    "        dani.append(d)\n",
    "        year.append(y)\n",
    "\n",
    "    loto['DAN']= dani\n",
    "    loto['MJESEC']= month\n",
    "    loto['GOD']= year\n",
    "    loto['DATUM'] = pd.to_datetime(dict(year=loto['GOD'], month=loto['MJESEC'], day=loto['DAN']))"
   ]
  },
  {
   "cell_type": "code",
   "execution_count": 8,
   "metadata": {},
   "outputs": [],
   "source": [
    "convert_date()"
   ]
  },
  {
   "cell_type": "markdown",
   "metadata": {},
   "source": [
    "#### Drugi naćim konvertiranja u objekat koji preponaje format datuma\n",
    "TODO: ubaci ga u code\n",
    "\n",
    "for i in range (0, num_of_rows ):\n",
    "    god = \"2017\"\n",
    "    first_dot= loto['DATUM'][i].find(\".\")\n",
    "    dan= (loto['DATUM'][i][0:first_dot])\n",
    "    second_dot= loto['DATUM'][i].find(\".\", first_dot + 1)\n",
    "    mj = (loto['DATUM'][i][first_dot+1:second_dot])\n",
    "    date=dan + \"-\" + mj + \"-\" + god\n",
    "    #print ( date )\n",
    "    loto['DATUM'].replace(to_replace=loto['DATUM'][i], value=date, inplace=True)"
   ]
  },
  {
   "cell_type": "code",
   "execution_count": 9,
   "metadata": {},
   "outputs": [
    {
     "data": {
      "text/html": [
       "<div>\n",
       "<style scoped>\n",
       "    .dataframe tbody tr th:only-of-type {\n",
       "        vertical-align: middle;\n",
       "    }\n",
       "\n",
       "    .dataframe tbody tr th {\n",
       "        vertical-align: top;\n",
       "    }\n",
       "\n",
       "    .dataframe thead th {\n",
       "        text-align: right;\n",
       "    }\n",
       "</style>\n",
       "<table border=\"1\" class=\"dataframe\">\n",
       "  <thead>\n",
       "    <tr style=\"text-align: right;\">\n",
       "      <th></th>\n",
       "      <th>KOLO</th>\n",
       "      <th>DATUM</th>\n",
       "    </tr>\n",
       "  </thead>\n",
       "  <tbody>\n",
       "    <tr>\n",
       "      <th>0</th>\n",
       "      <td>104.0</td>\n",
       "      <td>2017-12-30</td>\n",
       "    </tr>\n",
       "    <tr>\n",
       "      <th>1</th>\n",
       "      <td>103.0</td>\n",
       "      <td>2017-12-27</td>\n",
       "    </tr>\n",
       "    <tr>\n",
       "      <th>2</th>\n",
       "      <td>102.0</td>\n",
       "      <td>2017-12-23</td>\n",
       "    </tr>\n",
       "    <tr>\n",
       "      <th>3</th>\n",
       "      <td>101.0</td>\n",
       "      <td>2017-12-20</td>\n",
       "    </tr>\n",
       "    <tr>\n",
       "      <th>4</th>\n",
       "      <td>100.0</td>\n",
       "      <td>2017-12-16</td>\n",
       "    </tr>\n",
       "    <tr>\n",
       "      <th>5</th>\n",
       "      <td>99.0</td>\n",
       "      <td>2017-12-13</td>\n",
       "    </tr>\n",
       "    <tr>\n",
       "      <th>6</th>\n",
       "      <td>98.0</td>\n",
       "      <td>2017-12-09</td>\n",
       "    </tr>\n",
       "    <tr>\n",
       "      <th>7</th>\n",
       "      <td>97.0</td>\n",
       "      <td>2017-12-06</td>\n",
       "    </tr>\n",
       "    <tr>\n",
       "      <th>8</th>\n",
       "      <td>96.0</td>\n",
       "      <td>2017-12-02</td>\n",
       "    </tr>\n",
       "    <tr>\n",
       "      <th>9</th>\n",
       "      <td>95.0</td>\n",
       "      <td>2017-11-29</td>\n",
       "    </tr>\n",
       "    <tr>\n",
       "      <th>10</th>\n",
       "      <td>94.0</td>\n",
       "      <td>2017-11-25</td>\n",
       "    </tr>\n",
       "    <tr>\n",
       "      <th>11</th>\n",
       "      <td>93.0</td>\n",
       "      <td>2017-11-22</td>\n",
       "    </tr>\n",
       "    <tr>\n",
       "      <th>12</th>\n",
       "      <td>92.0</td>\n",
       "      <td>2017-11-18</td>\n",
       "    </tr>\n",
       "    <tr>\n",
       "      <th>13</th>\n",
       "      <td>91.0</td>\n",
       "      <td>2017-11-15</td>\n",
       "    </tr>\n",
       "    <tr>\n",
       "      <th>14</th>\n",
       "      <td>90.0</td>\n",
       "      <td>2017-11-11</td>\n",
       "    </tr>\n",
       "    <tr>\n",
       "      <th>15</th>\n",
       "      <td>89.0</td>\n",
       "      <td>2017-11-08</td>\n",
       "    </tr>\n",
       "    <tr>\n",
       "      <th>16</th>\n",
       "      <td>88.0</td>\n",
       "      <td>2017-11-04</td>\n",
       "    </tr>\n",
       "    <tr>\n",
       "      <th>17</th>\n",
       "      <td>87.0</td>\n",
       "      <td>2017-11-01</td>\n",
       "    </tr>\n",
       "    <tr>\n",
       "      <th>18</th>\n",
       "      <td>86.0</td>\n",
       "      <td>2017-10-28</td>\n",
       "    </tr>\n",
       "    <tr>\n",
       "      <th>19</th>\n",
       "      <td>85.0</td>\n",
       "      <td>2017-10-25</td>\n",
       "    </tr>\n",
       "  </tbody>\n",
       "</table>\n",
       "</div>"
      ],
      "text/plain": [
       "     KOLO      DATUM\n",
       "0   104.0 2017-12-30\n",
       "1   103.0 2017-12-27\n",
       "2   102.0 2017-12-23\n",
       "3   101.0 2017-12-20\n",
       "4   100.0 2017-12-16\n",
       "5    99.0 2017-12-13\n",
       "6    98.0 2017-12-09\n",
       "7    97.0 2017-12-06\n",
       "8    96.0 2017-12-02\n",
       "9    95.0 2017-11-29\n",
       "10   94.0 2017-11-25\n",
       "11   93.0 2017-11-22\n",
       "12   92.0 2017-11-18\n",
       "13   91.0 2017-11-15\n",
       "14   90.0 2017-11-11\n",
       "15   89.0 2017-11-08\n",
       "16   88.0 2017-11-04\n",
       "17   87.0 2017-11-01\n",
       "18   86.0 2017-10-28\n",
       "19   85.0 2017-10-25"
      ]
     },
     "execution_count": 9,
     "metadata": {},
     "output_type": "execute_result"
    }
   ],
   "source": [
    "loto[['KOLO','DATUM']][:20]"
   ]
  },
  {
   "cell_type": "code",
   "execution_count": 10,
   "metadata": {},
   "outputs": [
    {
     "data": {
      "text/plain": [
       "KOLO                         float64\n",
       "DATUM                 datetime64[ns]\n",
       "1BR                            int64\n",
       "2BR                            int64\n",
       "3BR                            int64\n",
       "4BR                            int64\n",
       "5BR                            int64\n",
       "6BR                            int64\n",
       "7BR                            int64\n",
       "ZLATNA KUGLICA                object\n",
       "SLOVO ZA \"SUPER7\"             object\n",
       "DOBITAK\"7\"                    object\n",
       "DOBITAK \"SUPER7\"              object\n",
       "JOKER                        float64\n",
       "UPLATA LOTO 7/39             float64\n",
       "UKUPNO ZA \"7\"                 object\n",
       "UPLATA \"SUPER7\"              float64\n",
       "UKUPNO ZA \"SUPER7\"            object\n",
       "DAN                            int64\n",
       "MJESEC                         int64\n",
       "GOD                            int64\n",
       "dtype: object"
      ]
     },
     "execution_count": 10,
     "metadata": {},
     "output_type": "execute_result"
    }
   ],
   "source": [
    "loto.dtypes"
   ]
  },
  {
   "cell_type": "code",
   "execution_count": 11,
   "metadata": {},
   "outputs": [
    {
     "data": {
      "text/html": [
       "<div>\n",
       "<style scoped>\n",
       "    .dataframe tbody tr th:only-of-type {\n",
       "        vertical-align: middle;\n",
       "    }\n",
       "\n",
       "    .dataframe tbody tr th {\n",
       "        vertical-align: top;\n",
       "    }\n",
       "\n",
       "    .dataframe thead th {\n",
       "        text-align: right;\n",
       "    }\n",
       "</style>\n",
       "<table border=\"1\" class=\"dataframe\">\n",
       "  <thead>\n",
       "    <tr style=\"text-align: right;\">\n",
       "      <th></th>\n",
       "      <th>KOLO</th>\n",
       "      <th>DATUM</th>\n",
       "      <th>1BR</th>\n",
       "      <th>2BR</th>\n",
       "      <th>3BR</th>\n",
       "      <th>4BR</th>\n",
       "      <th>5BR</th>\n",
       "      <th>6BR</th>\n",
       "      <th>7BR</th>\n",
       "      <th>ZLATNA KUGLICA</th>\n",
       "      <th>...</th>\n",
       "      <th>DOBITAK\"7\"</th>\n",
       "      <th>DOBITAK \"SUPER7\"</th>\n",
       "      <th>JOKER</th>\n",
       "      <th>UPLATA LOTO 7/39</th>\n",
       "      <th>UKUPNO ZA \"7\"</th>\n",
       "      <th>UPLATA \"SUPER7\"</th>\n",
       "      <th>UKUPNO ZA \"SUPER7\"</th>\n",
       "      <th>DAN</th>\n",
       "      <th>MJESEC</th>\n",
       "      <th>GOD</th>\n",
       "    </tr>\n",
       "  </thead>\n",
       "  <tbody>\n",
       "    <tr>\n",
       "      <th>0</th>\n",
       "      <td>104.0</td>\n",
       "      <td>2017-12-30</td>\n",
       "      <td>1</td>\n",
       "      <td>2</td>\n",
       "      <td>8</td>\n",
       "      <td>9</td>\n",
       "      <td>10</td>\n",
       "      <td>13</td>\n",
       "      <td>16</td>\n",
       "      <td>NE</td>\n",
       "      <td>...</td>\n",
       "      <td>-</td>\n",
       "      <td>-</td>\n",
       "      <td>296138.0</td>\n",
       "      <td>1520966.7</td>\n",
       "      <td>10000000</td>\n",
       "      <td>299564.1</td>\n",
       "      <td>1.70123e+07</td>\n",
       "      <td>30</td>\n",
       "      <td>12</td>\n",
       "      <td>2017</td>\n",
       "    </tr>\n",
       "    <tr>\n",
       "      <th>1</th>\n",
       "      <td>103.0</td>\n",
       "      <td>2017-12-27</td>\n",
       "      <td>1</td>\n",
       "      <td>3</td>\n",
       "      <td>7</td>\n",
       "      <td>9</td>\n",
       "      <td>21</td>\n",
       "      <td>27</td>\n",
       "      <td>36</td>\n",
       "      <td>NE</td>\n",
       "      <td>...</td>\n",
       "      <td>-</td>\n",
       "      <td>-</td>\n",
       "      <td>977316.0</td>\n",
       "      <td>1173935.7</td>\n",
       "      <td>10000000</td>\n",
       "      <td>225656.1</td>\n",
       "      <td>1.69336e+07</td>\n",
       "      <td>27</td>\n",
       "      <td>12</td>\n",
       "      <td>2017</td>\n",
       "    </tr>\n",
       "    <tr>\n",
       "      <th>2</th>\n",
       "      <td>102.0</td>\n",
       "      <td>2017-12-23</td>\n",
       "      <td>8</td>\n",
       "      <td>12</td>\n",
       "      <td>13</td>\n",
       "      <td>21</td>\n",
       "      <td>27</td>\n",
       "      <td>30</td>\n",
       "      <td>39</td>\n",
       "      <td>NE</td>\n",
       "      <td>...</td>\n",
       "      <td>-</td>\n",
       "      <td>-</td>\n",
       "      <td>718903.0</td>\n",
       "      <td>1444570.2</td>\n",
       "      <td>10000000</td>\n",
       "      <td>283858.2</td>\n",
       "      <td>1.68744e+07</td>\n",
       "      <td>23</td>\n",
       "      <td>12</td>\n",
       "      <td>2017</td>\n",
       "    </tr>\n",
       "    <tr>\n",
       "      <th>3</th>\n",
       "      <td>101.0</td>\n",
       "      <td>2017-12-20</td>\n",
       "      <td>4</td>\n",
       "      <td>8</td>\n",
       "      <td>16</td>\n",
       "      <td>17</td>\n",
       "      <td>18</td>\n",
       "      <td>19</td>\n",
       "      <td>25</td>\n",
       "      <td>NE</td>\n",
       "      <td>...</td>\n",
       "      <td>-</td>\n",
       "      <td>-</td>\n",
       "      <td>987865.0</td>\n",
       "      <td>1344880.8</td>\n",
       "      <td>10000000</td>\n",
       "      <td>260028.9</td>\n",
       "      <td>1.67999e+07</td>\n",
       "      <td>20</td>\n",
       "      <td>12</td>\n",
       "      <td>2017</td>\n",
       "    </tr>\n",
       "    <tr>\n",
       "      <th>4</th>\n",
       "      <td>100.0</td>\n",
       "      <td>2017-12-16</td>\n",
       "      <td>3</td>\n",
       "      <td>8</td>\n",
       "      <td>9</td>\n",
       "      <td>12</td>\n",
       "      <td>17</td>\n",
       "      <td>29</td>\n",
       "      <td>34</td>\n",
       "      <td>NE</td>\n",
       "      <td>...</td>\n",
       "      <td>-</td>\n",
       "      <td>-</td>\n",
       "      <td>837929.0</td>\n",
       "      <td>1464625.8</td>\n",
       "      <td>10000000</td>\n",
       "      <td>273955.5</td>\n",
       "      <td>1.67316e+07</td>\n",
       "      <td>16</td>\n",
       "      <td>12</td>\n",
       "      <td>2017</td>\n",
       "    </tr>\n",
       "  </tbody>\n",
       "</table>\n",
       "<p>5 rows × 21 columns</p>\n",
       "</div>"
      ],
      "text/plain": [
       "    KOLO      DATUM  1BR  2BR  3BR  4BR  5BR  6BR  7BR ZLATNA KUGLICA  ...   \\\n",
       "0  104.0 2017-12-30    1    2    8    9   10   13   16             NE  ...    \n",
       "1  103.0 2017-12-27    1    3    7    9   21   27   36             NE  ...    \n",
       "2  102.0 2017-12-23    8   12   13   21   27   30   39             NE  ...    \n",
       "3  101.0 2017-12-20    4    8   16   17   18   19   25             NE  ...    \n",
       "4  100.0 2017-12-16    3    8    9   12   17   29   34             NE  ...    \n",
       "\n",
       "  DOBITAK\"7\" DOBITAK \"SUPER7\"     JOKER  UPLATA LOTO 7/39  UKUPNO ZA \"7\"  \\\n",
       "0          -                -  296138.0         1520966.7       10000000   \n",
       "1          -                -  977316.0         1173935.7       10000000   \n",
       "2          -                -  718903.0         1444570.2       10000000   \n",
       "3          -                -  987865.0         1344880.8       10000000   \n",
       "4          -                -  837929.0         1464625.8       10000000   \n",
       "\n",
       "  UPLATA \"SUPER7\"  UKUPNO ZA \"SUPER7\" DAN  MJESEC   GOD  \n",
       "0        299564.1         1.70123e+07  30      12  2017  \n",
       "1        225656.1         1.69336e+07  27      12  2017  \n",
       "2        283858.2         1.68744e+07  23      12  2017  \n",
       "3        260028.9         1.67999e+07  20      12  2017  \n",
       "4        273955.5         1.67316e+07  16      12  2017  \n",
       "\n",
       "[5 rows x 21 columns]"
      ]
     },
     "execution_count": 11,
     "metadata": {},
     "output_type": "execute_result"
    }
   ],
   "source": [
    "loto.head()"
   ]
  },
  {
   "cell_type": "markdown",
   "metadata": {},
   "source": [
    "Funkcija convert_date() dijeluje na stupac 'DATUM' te kao rezultat daje pregledan zapis datuma."
   ]
  },
  {
   "cell_type": "markdown",
   "metadata": {},
   "source": [
    "Budući da nam stupci DAN, MJESEC više nisu potrebni možemo ih obrisati. Radi preglednosti tip podataka stupca 'KOLO' iz float prebacimo u integer. "
   ]
  },
  {
   "cell_type": "code",
   "execution_count": 12,
   "metadata": {},
   "outputs": [],
   "source": [
    "del loto['DAN'], loto['MJESEC']"
   ]
  },
  {
   "cell_type": "code",
   "execution_count": 13,
   "metadata": {},
   "outputs": [
    {
     "data": {
      "text/plain": [
       "0    104.0\n",
       "1    103.0\n",
       "2    102.0\n",
       "3    101.0\n",
       "4    100.0\n",
       "5     99.0\n",
       "6     98.0\n",
       "7     97.0\n",
       "8     96.0\n",
       "9     95.0\n",
       "Name: KOLO, dtype: float64"
      ]
     },
     "execution_count": 13,
     "metadata": {},
     "output_type": "execute_result"
    }
   ],
   "source": [
    "loto['KOLO'][:10]"
   ]
  },
  {
   "cell_type": "markdown",
   "metadata": {},
   "source": [
    "----------------------------\n",
    "TODO: mali pregled numpy-a"
   ]
  },
  {
   "cell_type": "code",
   "execution_count": 14,
   "metadata": {},
   "outputs": [],
   "source": [
    "import numpy as np\n",
    "loto['KOLO'] = loto['KOLO'].astype(np.int64)"
   ]
  },
  {
   "cell_type": "code",
   "execution_count": 15,
   "metadata": {},
   "outputs": [
    {
     "data": {
      "text/plain": [
       "KOLO                           int64\n",
       "DATUM                 datetime64[ns]\n",
       "1BR                            int64\n",
       "2BR                            int64\n",
       "3BR                            int64\n",
       "4BR                            int64\n",
       "5BR                            int64\n",
       "6BR                            int64\n",
       "7BR                            int64\n",
       "ZLATNA KUGLICA                object\n",
       "SLOVO ZA \"SUPER7\"             object\n",
       "DOBITAK\"7\"                    object\n",
       "DOBITAK \"SUPER7\"              object\n",
       "JOKER                        float64\n",
       "UPLATA LOTO 7/39             float64\n",
       "UKUPNO ZA \"7\"                 object\n",
       "UPLATA \"SUPER7\"              float64\n",
       "UKUPNO ZA \"SUPER7\"            object\n",
       "GOD                            int64\n",
       "dtype: object"
      ]
     },
     "execution_count": 15,
     "metadata": {},
     "output_type": "execute_result"
    }
   ],
   "source": [
    "loto.dtypes"
   ]
  },
  {
   "cell_type": "markdown",
   "metadata": {},
   "source": [
    "## Pojavljivanje brojeva\n",
    "- kreiramo vektor tako da vektor[0] odgovara broju 1 => potrebno je vektora duljine 39\n",
    "- funkcija koja trci kroz sve brojeve i gleda koji se pojavljuju"
   ]
  },
  {
   "cell_type": "code",
   "execution_count": 16,
   "metadata": {},
   "outputs": [
    {
     "data": {
      "text/plain": [
       "array([[ 1,  0],\n",
       "       [ 2,  0],\n",
       "       [ 3,  0],\n",
       "       [ 4,  0],\n",
       "       [ 5,  0],\n",
       "       [ 6,  0],\n",
       "       [ 7,  0],\n",
       "       [ 8,  0],\n",
       "       [ 9,  0],\n",
       "       [10,  0],\n",
       "       [11,  0],\n",
       "       [12,  0],\n",
       "       [13,  0],\n",
       "       [14,  0],\n",
       "       [15,  0],\n",
       "       [16,  0],\n",
       "       [17,  0],\n",
       "       [18,  0],\n",
       "       [19,  0],\n",
       "       [20,  0],\n",
       "       [21,  0],\n",
       "       [22,  0],\n",
       "       [23,  0],\n",
       "       [24,  0],\n",
       "       [25,  0],\n",
       "       [26,  0],\n",
       "       [27,  0],\n",
       "       [28,  0],\n",
       "       [29,  0],\n",
       "       [30,  0],\n",
       "       [31,  0],\n",
       "       [32,  0],\n",
       "       [33,  0],\n",
       "       [34,  0],\n",
       "       [35,  0],\n",
       "       [36,  0],\n",
       "       [37,  0],\n",
       "       [38,  0],\n",
       "       [39,  0]])"
      ]
     },
     "execution_count": 16,
     "metadata": {},
     "output_type": "execute_result"
    }
   ],
   "source": [
    "#draw ili pull?\n",
    "draw_number= np.zeros([39, 2], dtype=np.int64)\n",
    "#popuni prvi stupac\n",
    "for i in range (0, 39):\n",
    "    draw_number[i][0]=i+1\n",
    "draw_number"
   ]
  },
  {
   "cell_type": "code",
   "execution_count": 17,
   "metadata": {},
   "outputs": [],
   "source": [
    "#appear_num ili exist_num\n",
    "def appear_num (): \n",
    "    for i in range (0, num_of_rows):\n",
    "        draw_number[loto['1BR'][i] -1 ][1] +=1\n",
    "        draw_number[loto['2BR'][i] -1 ][1] +=1\n",
    "        draw_number[loto['3BR'][i] -1 ][1] +=1\n",
    "        draw_number[loto['4BR'][i] -1 ][1] +=1\n",
    "        draw_number[loto['5BR'][i] -1 ][1] +=1\n",
    "        draw_number[loto['6BR'][i] -1 ][1] +=1\n",
    "        draw_number[loto['7BR'][i] -1 ][1] +=1\n"
   ]
  },
  {
   "cell_type": "code",
   "execution_count": 18,
   "metadata": {},
   "outputs": [],
   "source": [
    "def out_appear_num():\n",
    "    for i in range (b, 39):\n",
    "        print ( draw_number[i][0], '->', draw_number[i][1])"
   ]
  },
  {
   "cell_type": "code",
   "execution_count": 19,
   "metadata": {},
   "outputs": [
    {
     "name": "stdout",
     "output_type": "stream",
     "text": [
      "1 -> 195\n",
      "2 -> 157\n",
      "3 -> 180\n",
      "4 -> 172\n",
      "5 -> 172\n",
      "6 -> 167\n",
      "7 -> 184\n",
      "8 -> 174\n",
      "9 -> 175\n",
      "10 -> 154\n",
      "11 -> 174\n",
      "12 -> 137\n",
      "13 -> 157\n",
      "14 -> 169\n",
      "15 -> 175\n",
      "16 -> 158\n",
      "17 -> 166\n",
      "18 -> 161\n",
      "19 -> 161\n",
      "20 -> 161\n",
      "21 -> 157\n",
      "22 -> 197\n",
      "23 -> 177\n",
      "24 -> 177\n",
      "25 -> 172\n",
      "26 -> 182\n",
      "27 -> 184\n",
      "28 -> 171\n",
      "29 -> 177\n",
      "30 -> 177\n",
      "31 -> 154\n",
      "32 -> 169\n",
      "33 -> 153\n",
      "34 -> 165\n",
      "35 -> 148\n",
      "36 -> 159\n",
      "37 -> 167\n",
      "38 -> 163\n",
      "39 -> 175\n"
     ]
    }
   ],
   "source": [
    "appear_num()\n",
    "out_appear_num()"
   ]
  },
  {
   "cell_type": "markdown",
   "metadata": {},
   "source": [
    "Provjerimo dali je funkcija dobra"
   ]
  },
  {
   "cell_type": "code",
   "execution_count": 20,
   "metadata": {},
   "outputs": [
    {
     "data": {
      "text/plain": [
       "True"
      ]
     },
     "execution_count": 20,
     "metadata": {},
     "output_type": "execute_result"
    }
   ],
   "source": [
    "num_of_rows*7 == sum(draw_number)[1]"
   ]
  },
  {
   "cell_type": "markdown",
   "metadata": {},
   "source": [
    "Koji se broj najčešće izvlaći?"
   ]
  },
  {
   "cell_type": "code",
   "execution_count": 21,
   "metadata": {},
   "outputs": [],
   "source": [
    "num, draw= draw_number.T"
   ]
  },
  {
   "cell_type": "code",
   "execution_count": 22,
   "metadata": {},
   "outputs": [
    {
     "data": {
      "text/plain": [
       "197"
      ]
     },
     "execution_count": 22,
     "metadata": {},
     "output_type": "execute_result"
    }
   ],
   "source": [
    "draw.max()"
   ]
  },
  {
   "cell_type": "code",
   "execution_count": 27,
   "metadata": {},
   "outputs": [
    {
     "name": "stdout",
     "output_type": "stream",
     "text": [
      "Broj 22  je izvućen  197  puta.\n"
     ]
    }
   ],
   "source": [
    "for i in range (0, 39):\n",
    "    if draw_number[i][1] == draw.max():\n",
    "        print ( 'Broj', i + 1, ' je izvućen ', draw.max(), ' puta.')\n",
    "        break"
   ]
  },
  {
   "cell_type": "markdown",
   "metadata": {},
   "source": [
    "Koji se broj najrijeđe izvlaći?"
   ]
  },
  {
   "cell_type": "code",
   "execution_count": 28,
   "metadata": {},
   "outputs": [
    {
     "name": "stdout",
     "output_type": "stream",
     "text": [
      "Broj 12  je izvućen  137  puta.\n"
     ]
    }
   ],
   "source": [
    "for i in range (0, 39):\n",
    "    if draw_number[i][1] == draw.min():\n",
    "        print ( 'Broj', i + 1, ' je izvućen ', draw.min(), ' puta.')\n",
    "        break"
   ]
  },
  {
   "cell_type": "code",
   "execution_count": 88,
   "metadata": {},
   "outputs": [
    {
     "data": {
      "image/png": "[encoded data removed]",
      "text/plain": [
       "<matplotlib.figure.Figure at 0x7f66eabd0908>"
      ]
     },
     "metadata": {},
     "output_type": "display_data"
    }
   ],
   "source": [
    "from matplotlib import pyplot as plt\n",
    "plt.plot(num, draw, color='r')\n",
    "plt.xlabel('Number')\n",
    "plt.ylabel('Draw')\n",
    "plt.title('Plot of draw number')\n",
    "plt.rcParams[\"figure.figsize\"] = (20,3)\n",
    "plt.grid(True)"
   ]
  },
  {
   "cell_type": "code",
   "execution_count": null,
   "metadata": {},
   "outputs": [],
   "source": [
    "#draw_number[draw_number < draw_number.max()]"
   ]
  },
  {
   "cell_type": "markdown",
   "metadata": {},
   "source": [
    "------------------\n",
    "# IDEJE\n",
    "- vjv pojave pojedniog broja\n",
    "- dodati stupac suma brojeva --> max, min suma\n",
    "    - linijski graf sume i datuma \n",
    "- 3D graf broj - broj - suma - \n",
    "- funk za provjeru dali je izvucen isti niz brojeva\n",
    "- struktura- nizovi ? za sada uspjesno zaobilazim to\n",
    "- rekurzivna funkcija za moguće nizove\n",
    "    - u funkciju dodati ograničenost na sumu niza, sumu vjv pojave pojedinog broja, vjv pojave dva broja u kombinaciji.. dok ne dodes do kolicine nizova koji su mozda smisleni\n",
    "- kolicina pojave određena dva/tri.. broja zajedno\n",
    "- izvucen dobitak - kolika uplata/sumaNiza spram ostalih izvlacenja"
   ]
  },
  {
   "cell_type": "code",
   "execution_count": null,
   "metadata": {},
   "outputs": [],
   "source": []
  }
 ],
 "metadata": {
  "kernelspec": {
   "display_name": "Python 3",
   "language": "python",
   "name": "python3"
  },
  "language_info": {
   "codemirror_mode": {
    "name": "ipython",
    "version": 3
   },
   "file_extension": ".py",
   "mimetype": "text/x-python",
   "name": "python",
   "nbconvert_exporter": "python",
   "pygments_lexer": "ipython3",
   "version": "3.6.4"
  }
 },
 "nbformat": 4,
 "nbformat_minor": 2
}
